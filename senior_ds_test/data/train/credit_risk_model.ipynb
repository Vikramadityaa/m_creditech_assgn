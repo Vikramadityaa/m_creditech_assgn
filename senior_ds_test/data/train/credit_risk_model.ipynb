{
 "cells": [
  {
   "cell_type": "markdown",
   "id": "3c7e5ac8-4e31-4c5d-abd1-f8c45a105f36",
   "metadata": {},
   "source": [
    "## Overall Modeling Process"
   ]
  },
  {
   "cell_type": "markdown",
   "id": "58b6b4b1-282b-4ad8-b9ef-7c575d8e61a2",
   "metadata": {},
   "source": [
    "## 1. Loading Data\n",
    "- Flattened the nested JSON to extract the data in the right format.\n",
    "\n",
    "## 2. Data Sanity Checks\n",
    "\n",
    "### 2.1 Data Shapes and UID Counts\n",
    "- Checked shapes of each DataFrame.\n",
    "- Counted unique `UID` values.\n",
    "\n",
    "### 2.2 Missing Values\n",
    "- Checked for missing values in all columns.\n",
    "\n",
    "### 2.3 Duplicate Rows\n",
    "- Check for duplicate rows\n",
    "\n",
    "### 2.4 UID Overlap Across Datasets\n",
    "- Verified overlaps in UID between flag data and the other two datasets.\n",
    "\n",
    "## 3. EDA for each Dataset\n",
    "\n",
    "### 3.1 Flags Dataset\n",
    "1. Target distribution checks\n",
    "2. Distribution of `name_contract_type` across the target.\n",
    "\n",
    "### 3.2 Accounts Dataset\n",
    "1. Check if loan amount and amount overdue is -ve for any instance\n",
    "2. Checking min/max dates to identify incorrect entries\n",
    "3. Cases where closed_date<open_date\n",
    "4. Check for irregularities in payment string column\n",
    "5. Boxplots to check outliers\n",
    "6. Plots to see the distribution of loan amount and amount overdue\n",
    "\n",
    "### 3.3 Enquiry Data\n",
    "1. Check if enquiry amount is -ve in any case\n",
    "2. Checking the min and max enquiry dates\n",
    "\n",
    "### 3.4 Data Cleaning Function\n",
    "\n",
    "## 4. Feature Engineering\n",
    "1. Features for both enquiry and accounts data were created separately at uid level and then merged with the flags data. This process was simplified using a function so can be directly used on test data\n",
    "\n",
    "## 5. Feature Selection (not actively used)\n",
    "1. Used RFE-based approach where a LGBM model is run and the feature with least importance is removed at each step\n",
    "\n",
    "## 6. Model Training\n",
    "1. Training a base lgbm classifiera\n",
    "2. Training a base catboost classifier\n",
    "\n",
    "## 7. Hyperparameter tuning\n",
    "1. Used optuna for hyperparameter tuning\n",
    "\n",
    "## 8. Predictions on Test Data\n",
    "\n",
    "\n"
   ]
  },
  {
   "cell_type": "markdown",
   "id": "f4e56912-b001-4994-a9f4-9c1c7d0d9120",
   "metadata": {},
   "source": [
    "# Importing Libraries"
   ]
  },
  {
   "cell_type": "code",
   "execution_count": 1,
   "id": "90db6a7f-9ddf-4d3c-b1b2-3d496dd6e93a",
   "metadata": {},
   "outputs": [],
   "source": [
    "import pandas as pd\n",
    "import json\n",
    "import matplotlib.pyplot as plt\n",
    "import seaborn as sns\n",
    "import numpy as np\n",
    "import pandas as pd\n",
    "import numpy as np\n",
    "from sklearn.model_selection import train_test_split\n",
    "from sklearn.metrics import roc_auc_score\n",
    "from lightgbm import LGBMClassifier\n",
    "from catboost import CatBoostClassifier, Pool\n",
    "import optuna\n",
    "import pickle"
   ]
  },
  {
   "cell_type": "markdown",
   "id": "32249212-fb56-4143-84f6-8db6daeaaf27",
   "metadata": {},
   "source": [
    "# 1. Loading Data"
   ]
  },
  {
   "cell_type": "code",
   "execution_count": 2,
   "id": "908b9dcb-f941-459d-aaad-7248d3a797dd",
   "metadata": {},
   "outputs": [],
   "source": [
    "####################### loading flag labels ########################################\n",
    "\n",
    "df_flag = pd.read_csv('train_flag.csv')\n",
    "\n",
    "# cunt of unique uid - 261383\n",
    "# shape - (261383,3)\n",
    "\n",
    "####################### loading accounts data ########################################\n",
    "\n",
    "#since we have a JSON with format as list -> list -> dictionary, we flatten it out to convert it to a dataframe\n",
    "\n",
    "#extracting account data\n",
    "with open('accounts_data_train.json', 'r') as file:\n",
    "    nested_data_acc = json.load(file)  \n",
    "    \n",
    "flattened_data_acc = [record for sublist in nested_data_acc for record in sublist]\n",
    "\n",
    "df_acc = pd.DataFrame(flattened_data_acc)\n",
    "# count of unique uid - 223918\n",
    "# shape - (1245310,7)\n",
    "\n",
    "####################### loading enquiry data ########################################\n",
    "\n",
    "#extracting enquiry data\n",
    "with open('enquiry_data_train.json', 'r') as file:\n",
    "    nested_data_enq = json.load(file)  \n",
    "    \n",
    "flattened_data_enq = [record for sublist in nested_data_enq for record in sublist]\n",
    "\n",
    "df_enq = pd.DataFrame(flattened_data_enq)\n",
    "\n",
    "# count of unique uid - 261383 \n",
    "# shape - (1909926,7)"
   ]
  },
  {
   "cell_type": "code",
   "execution_count": 17,
   "id": "20aad7f8-ba64-48a6-988c-52b2c7461416",
   "metadata": {},
   "outputs": [],
   "source": [
    "pd.DataFrame(df_acc['uid'].unique()).to_excel('test3.xlsx')"
   ]
  },
  {
   "cell_type": "code",
   "execution_count": 90,
   "id": "f32c3a05-7aa4-4dcc-9545-e76e6a530e5f",
   "metadata": {},
   "outputs": [
    {
     "name": "stdout",
     "output_type": "stream",
     "text": [
      "<class 'pandas.core.frame.DataFrame'>\n",
      "RangeIndex: 1909926 entries, 0 to 1909925\n",
      "Data columns (total 4 columns):\n",
      " #   Column        Dtype \n",
      "---  ------        ----- \n",
      " 0   enquiry_type  object\n",
      " 1   enquiry_amt   int64 \n",
      " 2   enquiry_date  object\n",
      " 3   uid           object\n",
      "dtypes: int64(1), object(3)\n",
      "memory usage: 58.3+ MB\n"
     ]
    }
   ],
   "source": [
    "df_enq.info()"
   ]
  },
  {
   "cell_type": "code",
   "execution_count": 35,
   "id": "69f34563-2031-429d-9251-2d09802625f5",
   "metadata": {},
   "outputs": [
    {
     "name": "stdout",
     "output_type": "stream",
     "text": [
      "<class 'pandas.core.frame.DataFrame'>\n",
      "RangeIndex: 1245310 entries, 0 to 1245309\n",
      "Data columns (total 7 columns):\n",
      " #   Column               Non-Null Count    Dtype  \n",
      "---  ------               --------------    -----  \n",
      " 0   credit_type          1245310 non-null  object \n",
      " 1   loan_amount          1245307 non-null  float64\n",
      " 2   amount_overdue       1245310 non-null  float64\n",
      " 3   open_date            1245310 non-null  object \n",
      " 4   closed_date          782275 non-null   object \n",
      " 5   payment_hist_string  1245310 non-null  object \n",
      " 6   uid                  1245310 non-null  object \n",
      "dtypes: float64(2), object(5)\n",
      "memory usage: 66.5+ MB\n"
     ]
    }
   ],
   "source": [
    "df_acc.info()"
   ]
  },
  {
   "cell_type": "code",
   "execution_count": 91,
   "id": "c24afb5e-6b17-4a31-824e-04b70da87163",
   "metadata": {},
   "outputs": [
    {
     "name": "stdout",
     "output_type": "stream",
     "text": [
      "<class 'pandas.core.frame.DataFrame'>\n",
      "RangeIndex: 261383 entries, 0 to 261382\n",
      "Data columns (total 3 columns):\n",
      " #   Column              Non-Null Count   Dtype \n",
      "---  ------              --------------   ----- \n",
      " 0   uid                 261383 non-null  object\n",
      " 1   NAME_CONTRACT_TYPE  261383 non-null  object\n",
      " 2   TARGET              261383 non-null  int64 \n",
      "dtypes: int64(1), object(2)\n",
      "memory usage: 6.0+ MB\n"
     ]
    }
   ],
   "source": [
    "df_flag.info()\n",
    "#club  - [('Another type of loan','Unknown type of loan'),('','')"
   ]
  },
  {
   "cell_type": "markdown",
   "id": "24b24639-bb8e-4d2f-b1c2-b487421345c6",
   "metadata": {},
   "source": [
    "# 2. Data Sanity "
   ]
  },
  {
   "cell_type": "code",
   "execution_count": 6,
   "id": "62fb2626-0651-47e8-a759-73d80c1edde8",
   "metadata": {},
   "outputs": [
    {
     "name": "stdout",
     "output_type": "stream",
     "text": [
      "flag: (261383, 3) , unique uids: 261383\n",
      "accounts: (1245310, 7) , unique uids: 223918\n",
      "enquiry: (1909926, 4) , unique uids: 261383\n"
     ]
    }
   ],
   "source": [
    "#2.1 Checking shapes for each of the dataframes and the count of unique UID values\n",
    "\n",
    "### Insights - \n",
    "    # a. Each UID has a single flag but can have multiple past accounts and enquiries\n",
    "    # b. Unique number of UID in flags and acc is different, indicating not each UID has a past loan, or there's a data pull issue\n",
    "    # c. Each UID seems to have past enquiry information, which will be verified further\n",
    "print(\"flag:\", df_flag.shape, \", unique uids:\", df_flag['uid'].nunique())\n",
    "print(\"accounts:\", df_acc.shape, \", unique uids:\", df_acc['uid'].nunique())\n",
    "print(\"enquiry:\", df_enq.shape, \", unique uids:\", df_enq['uid'].nunique())"
   ]
  },
  {
   "cell_type": "code",
   "execution_count": 7,
   "id": "bd664cf8-af5a-4a64-86ab-85e3ffcedf06",
   "metadata": {},
   "outputs": [
    {
     "name": "stdout",
     "output_type": "stream",
     "text": [
      "Missing values in df_flag:\n",
      "uid                   0\n",
      "NAME_CONTRACT_TYPE    0\n",
      "TARGET                0\n",
      "dtype: int64\n",
      "\n",
      "Missing values in df_acc:\n",
      "credit_type                 0\n",
      "loan_amount                 3\n",
      "amount_overdue              0\n",
      "open_date                   0\n",
      "closed_date            463035\n",
      "payment_hist_string         0\n",
      "uid                         0\n",
      "dtype: int64\n",
      "\n",
      "Missing values in df_enq:\n",
      "enquiry_type    0\n",
      "enquiry_amt     0\n",
      "enquiry_date    0\n",
      "uid             0\n",
      "dtype: int64\n"
     ]
    }
   ],
   "source": [
    "#2.2 Check for missing values\n",
    "\n",
    "## Insights -\n",
    "    # a. Need to make a decision on how to tackle the large number of nulls in closed_date, most of them indicate that a loan is still open at time of application\n",
    "print(\"Missing values in df_flag:\")\n",
    "print(df_flag.isna().sum())\n",
    "\n",
    "print(\"\\nMissing values in df_acc:\")\n",
    "print(df_acc.isna().sum())\n",
    "\n",
    "print(\"\\nMissing values in df_enq:\")\n",
    "print(df_enq.isna().sum())"
   ]
  },
  {
   "cell_type": "code",
   "execution_count": 8,
   "id": "91f35066-ae92-4a16-b8db-535c31f4a5a7",
   "metadata": {},
   "outputs": [
    {
     "name": "stdout",
     "output_type": "stream",
     "text": [
      "\n",
      "Duplicate rows in df_flag: 0\n",
      "Duplicate rows in df_acc: 6411\n",
      "Duplicate rows in df_enq: 9\n"
     ]
    }
   ],
   "source": [
    "#2.3 Check for duplicate rows\n",
    "\n",
    "### Insights - \n",
    "    # a. Large number of duplicates in accounts will be removed. Some duplicates present in df_enq too will be removed\n",
    "print(\"\\nDuplicate rows in df_flag:\", df_flag.duplicated().sum())\n",
    "print(\"Duplicate rows in df_acc:\", df_acc.duplicated().sum())\n",
    "print(\"Duplicate rows in df_enq:\", df_enq.duplicated().sum())"
   ]
  },
  {
   "cell_type": "code",
   "execution_count": 9,
   "id": "f38ff279-27d7-4347-9c3b-ffcf7616404b",
   "metadata": {},
   "outputs": [
    {
     "name": "stdout",
     "output_type": "stream",
     "text": [
      "Missing UID in flag not in account data 37465\n",
      "Missing UID in flag not in account data 0\n"
     ]
    }
   ],
   "source": [
    "#2.4 Checks for UID count overlaps between the flag and the other two datasets (based on findings of 2.1)\n",
    "\n",
    "### Insights - \n",
    "    # a. 37465 UID's don't have any historical loan data, they only have enquiry data\n",
    "print('Missing UID in flag not in account data', (~df_flag['uid'].isin(df_acc['uid'])).sum())\n",
    "print('Missing UID in flag not in enquiry data', (~df_flag['uid'].isin(df_enq['uid'])).sum())"
   ]
  },
  {
   "cell_type": "markdown",
   "id": "d2600aec-7bf2-45dd-a39c-b1e05a607825",
   "metadata": {},
   "source": [
    "# 3. EDA for each Dataset"
   ]
  },
  {
   "cell_type": "markdown",
   "id": "dedd6447-02fc-4e0e-b2b4-e16cdacf6e70",
   "metadata": {},
   "source": [
    "3.1 Basic EDA for flags data"
   ]
  },
  {
   "cell_type": "code",
   "execution_count": 11,
   "id": "9551546c-3a27-4d7e-b34e-fa6ceef455e4",
   "metadata": {},
   "outputs": [
    {
     "data": {
      "image/png": "[encoded data removed]",
      "text/plain": [
       "<Figure size 640x480 with 1 Axes>"
      ]
     },
     "metadata": {},
     "output_type": "display_data"
    }
   ],
   "source": [
    "#1. Target distribution\n",
    "\n",
    "### Insights - \n",
    "    # a. We can see that there is a high imbalance in the target, something to be kept in mind while model training and evaluation\n",
    "\n",
    "sns.countplot(x='TARGET', data=df_flag)\n",
    "plt.title('Target Class Distribution')\n",
    "plt.show()"
   ]
  },
  {
   "cell_type": "code",
   "execution_count": 12,
   "id": "d9f2593b-6746-4eb8-b858-399ac6a7906c",
   "metadata": {},
   "outputs": [
    {
     "data": {
      "text/plain": [
       "TARGET\n",
       "0    91.944006\n",
       "1     8.055994\n",
       "Name: count, dtype: float64"
      ]
     },
     "execution_count": 12,
     "metadata": {},
     "output_type": "execute_result"
    }
   ],
   "source": [
    "# % data in for each target (this shows there's a very high data imbalance)\n",
    "(df_flag['TARGET'].value_counts() / df_flag.shape[0]) *100"
   ]
  },
  {
   "cell_type": "code",
   "execution_count": 13,
   "id": "c10ccfac-2d88-4066-8ba6-bb3d5221cce6",
   "metadata": {},
   "outputs": [
    {
     "data": {
      "image/png": "[encoded data removed]",
      "text/plain": [
       "<Figure size 640x480 with 1 Axes>"
      ]
     },
     "metadata": {},
     "output_type": "display_data"
    }
   ],
   "source": [
    "#2. Distribution of name_contract_type across the target\n",
    "\n",
    "### Insights - \n",
    "    # a. large number of defaults from cash loans\n",
    "\n",
    "sns.countplot(x='NAME_CONTRACT_TYPE', hue='TARGET', data=df_flag)\n",
    "plt.title('Loan Type Distribution by Target')\n",
    "plt.xticks(rotation=45)\n",
    "plt.show()"
   ]
  },
  {
   "cell_type": "markdown",
   "id": "4400f190-4a61-41e7-841b-c593ddef850e",
   "metadata": {},
   "source": [
    "B. Basic EDA for accounts data"
   ]
  },
  {
   "cell_type": "code",
   "execution_count": 14,
   "id": "bfb49f8a-dd73-4def-97fb-40d3e18816bc",
   "metadata": {},
   "outputs": [
    {
     "name": "stdout",
     "output_type": "stream",
     "text": [
      "Any negative loan_amount? False\n",
      "Any negative amount_overdue? False\n"
     ]
    }
   ],
   "source": [
    "#1. Check if loan amount and amount overdue is -ve for any instance\n",
    "\n",
    "### Insights - \n",
    "    # a. There are no negatives in both\n",
    "print(\"Any negative loan_amount?\", (df_acc_dedupe['loan_amount'] < 0).any())\n",
    "print(\"Any negative amount_overdue?\", (df_acc_dedupe['amount_overdue'] < 0).any())"
   ]
  },
  {
   "cell_type": "code",
   "execution_count": 15,
   "id": "28bf8140-f7f8-4a81-bdb6-88c048befe2d",
   "metadata": {},
   "outputs": [
    {
     "name": "stderr",
     "output_type": "stream",
     "text": [
      "C:\\Users\\lenvo\\AppData\\Local\\Temp\\ipykernel_4776\\3930286735.py:6: SettingWithCopyWarning: \n",
      "A value is trying to be set on a copy of a slice from a DataFrame.\n",
      "Try using .loc[row_indexer,col_indexer] = value instead\n",
      "\n",
      "See the caveats in the documentation: https://pandas.pydata.org/pandas-docs/stable/user_guide/indexing.html#returning-a-view-versus-a-copy\n",
      "  df_acc_dedupe['open_date'] = pd.to_datetime(df_acc_dedupe['open_date'], errors='coerce')\n"
     ]
    },
    {
     "name": "stdout",
     "output_type": "stream",
     "text": [
      "open_date min: 2013-01-01 00:00:00\n",
      "open_date max: 2021-01-01 00:00:00\n",
      "closed_date min: 1905-12-13 00:00:00\n",
      "closed_date max: 2021-01-01 00:00:00\n"
     ]
    },
    {
     "name": "stderr",
     "output_type": "stream",
     "text": [
      "C:\\Users\\lenvo\\AppData\\Local\\Temp\\ipykernel_4776\\3930286735.py:7: SettingWithCopyWarning: \n",
      "A value is trying to be set on a copy of a slice from a DataFrame.\n",
      "Try using .loc[row_indexer,col_indexer] = value instead\n",
      "\n",
      "See the caveats in the documentation: https://pandas.pydata.org/pandas-docs/stable/user_guide/indexing.html#returning-a-view-versus-a-copy\n",
      "  df_acc_dedupe['closed_date'] = pd.to_datetime(df_acc_dedupe['closed_date'], errors='coerce')\n"
     ]
    }
   ],
   "source": [
    "#2. Checking min and max dates to see abnormal entries \n",
    "\n",
    "### Insights - \n",
    "    # a. We see that closed_date has an abnormal value, this we can check for how many cases closed date is less than open_date and take a decision\n",
    "    # on removing such data points due to incorrectness in recording the data\n",
    "df_acc_dedupe['open_date'] = pd.to_datetime(df_acc_dedupe['open_date'], errors='coerce')\n",
    "df_acc_dedupe['closed_date'] = pd.to_datetime(df_acc_dedupe['closed_date'], errors='coerce')\n",
    "\n",
    "print(\"open_date min:\", df_acc_dedupe['open_date'].min())\n",
    "print(\"open_date max:\", df_acc_dedupe['open_date'].max())\n",
    "\n",
    "print(\"closed_date min:\", df_acc_dedupe['closed_date'].min())\n",
    "print(\"closed_date max:\", df_acc_dedupe['closed_date'].max())"
   ]
  },
  {
   "cell_type": "code",
   "execution_count": 16,
   "id": "fc87a070-e107-4a68-8174-59e795589ee5",
   "metadata": {},
   "outputs": [
    {
     "name": "stdout",
     "output_type": "stream",
     "text": [
      "Number of rows where closed_date < open_date: 13\n"
     ]
    }
   ],
   "source": [
    "#3. Checking for how many cases closed date is less than open date\n",
    "\n",
    "### Insights - \n",
    "    # a. there are 13 cases where closed date is less than open date (can remove such cases as they are smaller in number and might indicate data recording issues)\n",
    "invalid_dates = df_acc_dedupe[\n",
    "    (df_acc_dedupe['closed_date'].notna()) &\n",
    "    (df_acc_dedupe['open_date'].notna()) &\n",
    "    (df_acc_dedupe['closed_date'] < df_acc_dedupe['open_date'])\n",
    "]\n",
    "\n",
    "print(f\"Number of rows where closed_date < open_date: {len(invalid_dates)}\")"
   ]
  },
  {
   "cell_type": "code",
   "execution_count": 17,
   "id": "45a2b144-ec92-4ee4-8dc1-b6f14d2a69cf",
   "metadata": {},
   "outputs": [
    {
     "name": "stdout",
     "output_type": "stream",
     "text": [
      "All payment_hist_string are digit strings? False\n"
     ]
    }
   ],
   "source": [
    "#4. Check for any irregularities in the payment string column\n",
    "\n",
    "### Insights - \n",
    "    # a. We see that not all entries are digit strings, can do further analysis on this\n",
    "all_digit = df_acc_dedupe['payment_hist_string'].apply(lambda x: str(x).isdigit())\n",
    "print(\"All payment_hist_string are digit strings?\", all_digit.all())"
   ]
  },
  {
   "cell_type": "code",
   "execution_count": 18,
   "id": "a510e50f-45d7-421f-b7a6-7bc6afd80bc7",
   "metadata": {},
   "outputs": [
    {
     "data": {
      "text/html": [
       "<div>\n",
       "<style scoped>\n",
       "    .dataframe tbody tr th:only-of-type {\n",
       "        vertical-align: middle;\n",
       "    }\n",
       "\n",
       "    .dataframe tbody tr th {\n",
       "        vertical-align: top;\n",
       "    }\n",
       "\n",
       "    .dataframe thead th {\n",
       "        text-align: right;\n",
       "    }\n",
       "</style>\n",
       "<table border=\"1\" class=\"dataframe\">\n",
       "  <thead>\n",
       "    <tr style=\"text-align: right;\">\n",
       "      <th></th>\n",
       "      <th>credit_type</th>\n",
       "      <th>loan_amount</th>\n",
       "      <th>amount_overdue</th>\n",
       "      <th>open_date</th>\n",
       "      <th>closed_date</th>\n",
       "      <th>payment_hist_string</th>\n",
       "      <th>uid</th>\n",
       "    </tr>\n",
       "  </thead>\n",
       "  <tbody>\n",
       "    <tr>\n",
       "      <th>77</th>\n",
       "      <td>Consumer credit</td>\n",
       "      <td>43200.0</td>\n",
       "      <td>0.0</td>\n",
       "      <td>2019-04-12</td>\n",
       "      <td>2019-05-10</td>\n",
       "      <td></td>\n",
       "      <td>AAC05666087</td>\n",
       "    </tr>\n",
       "    <tr>\n",
       "      <th>117</th>\n",
       "      <td>Consumer credit</td>\n",
       "      <td>68292.0</td>\n",
       "      <td>0.0</td>\n",
       "      <td>2015-12-04</td>\n",
       "      <td>2016-01-02</td>\n",
       "      <td></td>\n",
       "      <td>AAC60259451</td>\n",
       "    </tr>\n",
       "    <tr>\n",
       "      <th>223</th>\n",
       "      <td>Consumer credit</td>\n",
       "      <td>465327.0</td>\n",
       "      <td>0.0</td>\n",
       "      <td>2020-12-29</td>\n",
       "      <td>NaT</td>\n",
       "      <td></td>\n",
       "      <td>AAD97614038</td>\n",
       "    </tr>\n",
       "    <tr>\n",
       "      <th>247</th>\n",
       "      <td>Consumer credit</td>\n",
       "      <td>22500.0</td>\n",
       "      <td>0.0</td>\n",
       "      <td>2019-05-23</td>\n",
       "      <td>2019-06-06</td>\n",
       "      <td></td>\n",
       "      <td>AAE21955361</td>\n",
       "    </tr>\n",
       "    <tr>\n",
       "      <th>349</th>\n",
       "      <td>Consumer credit</td>\n",
       "      <td>22500.0</td>\n",
       "      <td>0.0</td>\n",
       "      <td>2020-11-21</td>\n",
       "      <td>2020-12-15</td>\n",
       "      <td></td>\n",
       "      <td>AAF29916573</td>\n",
       "    </tr>\n",
       "  </tbody>\n",
       "</table>\n",
       "</div>"
      ],
      "text/plain": [
       "         credit_type  loan_amount  amount_overdue  open_date closed_date  \\\n",
       "77   Consumer credit      43200.0             0.0 2019-04-12  2019-05-10   \n",
       "117  Consumer credit      68292.0             0.0 2015-12-04  2016-01-02   \n",
       "223  Consumer credit     465327.0             0.0 2020-12-29         NaT   \n",
       "247  Consumer credit      22500.0             0.0 2019-05-23  2019-06-06   \n",
       "349  Consumer credit      22500.0             0.0 2020-11-21  2020-12-15   \n",
       "\n",
       "    payment_hist_string          uid  \n",
       "77                       AAC05666087  \n",
       "117                      AAC60259451  \n",
       "223                      AAD97614038  \n",
       "247                      AAE21955361  \n",
       "349                      AAF29916573  "
      ]
     },
     "execution_count": 18,
     "metadata": {},
     "output_type": "execute_result"
    }
   ],
   "source": [
    "# further analysis on step - 4. This shows that we have empty strings in this column\n",
    "non_digit_rows = df_acc_dedupe[~df_acc_dedupe['payment_hist_string'].apply(lambda x: str(x).isdigit())]\n",
    "non_digit_rows.head()"
   ]
  },
  {
   "cell_type": "code",
   "execution_count": 19,
   "id": "8d08c1a8-7f04-4db0-b902-4664b27858e8",
   "metadata": {},
   "outputs": [
    {
     "data": {
      "image/png": "[encoded data removed]",
      "text/plain": [
       "<Figure size 1200x500 with 2 Axes>"
      ]
     },
     "metadata": {},
     "output_type": "display_data"
    }
   ],
   "source": [
    "#5. Boxplot to check outliers\n",
    "\n",
    "### Insights - \n",
    "    # a. We do see that there are some outliers based on IQR but we'll not remove them as these can be large loan amounts (tree based models are usually\n",
    "    # robust to outliers)\n",
    "plt.figure(figsize=(12, 5))\n",
    "\n",
    "plt.subplot(1, 2, 1)\n",
    "sns.boxplot(x=df_acc_dedupe['loan_amount'])\n",
    "plt.title('Loan Amount')\n",
    "\n",
    "plt.subplot(1, 2, 2)\n",
    "sns.boxplot(x=df_acc_dedupe['amount_overdue'])\n",
    "plt.title('Amount Overdue')\n",
    "\n",
    "plt.show()"
   ]
  },
  {
   "cell_type": "code",
   "execution_count": 20,
   "id": "0792fed5-08d9-4cb8-87e6-e962ca74d10f",
   "metadata": {},
   "outputs": [
    {
     "data": {
      "image/png": "[encoded data removed]",
      "text/plain": [
       "<Figure size 1400x600 with 2 Axes>"
      ]
     },
     "metadata": {},
     "output_type": "display_data"
    }
   ],
   "source": [
    "#6. Plots to see the distribution of loan amount and amount overdue (right skewed as expected given the outliers/large values skew the distribution)\n",
    "\n",
    "plt.figure(figsize=(14, 6))\n",
    "\n",
    "# Distribution of loan_amount\n",
    "plt.subplot(1, 2, 1)\n",
    "sns.histplot(df_acc_dedupe['loan_amount'], kde=True, bins=50, color='skyblue')\n",
    "plt.title('Distribution of Loan Amount')\n",
    "plt.xlabel('loan_amount')\n",
    "plt.ylabel('Count')\n",
    "\n",
    "# Distribution of amount_overdue\n",
    "plt.subplot(1, 2, 2)\n",
    "sns.histplot(df_acc_dedupe['amount_overdue'], kde=True, bins=50, color='salmon')\n",
    "plt.title('Distribution of Amount Overdue')\n",
    "plt.xlabel('amount_overdue')\n",
    "plt.ylabel('Count')\n",
    "\n",
    "plt.tight_layout()\n",
    "plt.show()\n"
   ]
  },
  {
   "cell_type": "markdown",
   "id": "0bc50ac0-b229-45ca-b4a5-039e460b29b9",
   "metadata": {},
   "source": [
    "3.3 Basic EDA for enquiry data"
   ]
  },
  {
   "cell_type": "code",
   "execution_count": 21,
   "id": "40623e19-2ae2-4db2-9c74-98b162f28597",
   "metadata": {},
   "outputs": [
    {
     "name": "stdout",
     "output_type": "stream",
     "text": [
      "Any negative enquiry_amt? False\n"
     ]
    }
   ],
   "source": [
    "#1. Check if enquiry amount is -ve in any case\n",
    "print(\"Any negative enquiry_amt?\", (df_enq_dedupe['enquiry_amt'] < 0).any())"
   ]
  },
  {
   "cell_type": "code",
   "execution_count": 22,
   "id": "aa0e7e2f-cc5a-4b25-8c5e-333278d47119",
   "metadata": {},
   "outputs": [
    {
     "name": "stdout",
     "output_type": "stream",
     "text": [
      "enquiry_date min: 2015-08-30\n",
      "enquiry_date max: 2021-01-01\n"
     ]
    }
   ],
   "source": [
    "#2. Checking the min and max enquiry dates for sanity\n",
    "print(\"enquiry_date min:\", df_enq_dedupe['enquiry_date'].min())\n",
    "print(\"enquiry_date max:\", df_enq_dedupe['enquiry_date'].max())"
   ]
  },
  {
   "cell_type": "markdown",
   "id": "226ec3f7-1f20-4b73-bda1-0ba752c2abd0",
   "metadata": {},
   "source": [
    "3.4 Data Cleaning Function"
   ]
  },
  {
   "cell_type": "code",
   "execution_count": 3,
   "id": "1f47ebda-efa2-49f5-8b5e-16933f986c89",
   "metadata": {},
   "outputs": [],
   "source": [
    "#function to remove any duplicates and cases of dates where close_date<open_date (nased on data sanity checks and basic EDA)\n",
    "def data_cleaning(df_acc: pd.DataFrame, df_enq: pd.DataFrame):\n",
    "    \n",
    "    #1. Remove duplicates\n",
    "    df_acc_dedupe = df_acc.drop_duplicates()\n",
    "    df_enq_dedupe = df_enq.drop_duplicates()\n",
    "    \n",
    "    #2. Removing cases where closed_date < open_date\n",
    "    df_acc_dedupe = df_acc_dedupe[~(\n",
    "        (df_acc_dedupe['closed_date'].notna()) &\n",
    "        (df_acc_dedupe['closed_date'] < df_acc_dedupe['open_date'])\n",
    "    )].copy()\n",
    "\n",
    "    return df_acc_dedupe, df_enq_dedupe\n",
    "\n",
    "df_acc_dedupe, df_enq_dedupe = data_cleaning(df_acc, df_enq)"
   ]
  },
  {
   "cell_type": "markdown",
   "id": "70ddecda-ed40-4038-b5d1-4b1018236ecd",
   "metadata": {},
   "source": [
    "# 4. Feature Engineering"
   ]
  },
  {
   "cell_type": "markdown",
   "id": "67040ad0-43f2-42b7-a929-250eaa992484",
   "metadata": {},
   "source": [
    "A. Feature Engineering for Accounts Data (depreciated, combined into a function)"
   ]
  },
  {
   "cell_type": "code",
   "execution_count": null,
   "id": "1619cf9e-3e67-4937-adef-a3d95c1ef91a",
   "metadata": {},
   "outputs": [],
   "source": [
    "# #1. Creating frequency encoding and time based features\n",
    "# # Frequency encoding of credit_type\n",
    "# credit_type_freq = df_acc_dedupe['credit_type'].value_counts(normalize=True)\n",
    "# df_acc_dedupe['credit_type_freq'] = df_acc_dedupe['credit_type'].map(credit_type_freq)\n",
    "\n",
    "# # Duration calculation (we'll leave the nulls as it is so the model directionally knows these loans are still open)\n",
    "# df_acc_dedupe['loan_duration_days'] = (\n",
    "#     df_acc_dedupe['closed_date'] - df_acc_dedupe['open_date']\n",
    "# ).dt.days\n"
   ]
  },
  {
   "cell_type": "code",
   "execution_count": null,
   "id": "2eb61755-bad3-4dfc-9d77-b1f55e8a24c2",
   "metadata": {
    "jupyter": {
     "source_hidden": true
    }
   },
   "outputs": [],
   "source": [
    "# #2. Features based on loan amount and # of active loans\n",
    "# acc_loan_amount_feats = df_acc_dedupe.groupby('uid').agg(\n",
    "#     acc_total_loans=('loan_amount', 'count'),\n",
    "#     acc_active_loans=('closed_date', lambda x: x.isna().sum()),\n",
    "#     acc_closed_loans=('closed_date', lambda x: x.notna().sum()),\n",
    "#     acc_avg_loan_amount=('loan_amount', 'mean'),\n",
    "#     acc_max_loan_amount=('loan_amount', 'max'),\n",
    "#     acc_sum_loan_amount=('loan_amount', 'sum'),\n",
    "#     acc_loan_amount_std=('loan_amount', 'std')\n",
    "# ).reset_index()\n",
    "\n",
    "# credit_type_enc = df_acc_dedupe.groupby('uid')['credit_type_freq'].mean().reset_index().rename(\n",
    "#     columns={'credit_type_freq': 'acc_credit_type_score'}\n",
    "# )"
   ]
  },
  {
   "cell_type": "code",
   "execution_count": null,
   "id": "bbfe1226-0231-479b-9716-36383e8503ff",
   "metadata": {
    "jupyter": {
     "source_hidden": true
    }
   },
   "outputs": [],
   "source": [
    "# #sanity check for features created above\n",
    "\n",
    "# print(\"Loan Amount Features:\")\n",
    "# print(acc_loan_amount_feats.describe())\n",
    "# print(\"Missing values in acc_loan_amount_feats:\")\n",
    "# print(acc_loan_amount_feats.isna().sum())\n",
    "\n",
    "# # Plot for outlier or skew check\n",
    "# sns.boxplot(data=acc_loan_amount_feats[['acc_avg_loan_amount', 'acc_max_loan_amount', 'acc_sum_loan_amount']])\n",
    "# plt.xticks(rotation=45)\n",
    "# plt.title(\"Loan Amount Feature Distributions\")\n",
    "# plt.show()\n"
   ]
  },
  {
   "cell_type": "code",
   "execution_count": null,
   "id": "f317d2d3-a50c-4204-a208-2038b2b4386f",
   "metadata": {
    "jupyter": {
     "source_hidden": true
    }
   },
   "outputs": [],
   "source": [
    "# #3. Features based on loan amount overdue\n",
    "# acc_overdue_feats = df_acc_dedupe.groupby('uid').agg(\n",
    "#     acc_total_overdue=('amount_overdue', 'sum'),\n",
    "#     acc_avg_overdue=('amount_overdue', 'mean'),\n",
    "#     acc_max_overdue=('amount_overdue', 'max')\n",
    "# ).reset_index()\n",
    "\n",
    "# acc_overdue_feats = acc_overdue_feats.merge(\n",
    "#     acc_loan_feats[['uid', 'acc_sum_loan_amount']], on='uid', how='left'\n",
    "# )\n",
    "# acc_overdue_feats['acc_overdue_amount_ratio'] = (\n",
    "#     acc_overdue_feats['acc_total_overdue'] / (acc_overdue_feats['acc_sum_loan_amount'] + 1e-6)\n",
    "# )\n",
    "# acc_overdue_feats.drop(columns='acc_sum_loan_amount', inplace=True)\n"
   ]
  },
  {
   "cell_type": "code",
   "execution_count": null,
   "id": "0582eda9-c3e3-4c08-80c4-9d8df65f60df",
   "metadata": {
    "jupyter": {
     "source_hidden": true
    }
   },
   "outputs": [],
   "source": [
    "# #sanity checks for the featues created above\n",
    "\n",
    "# print(\"Overdue Features:\")\n",
    "# print(acc_overdue_feats.describe())\n",
    "# print(\"Missing values in acc_overdue_feats:\")\n",
    "# print(acc_overdue_feats.isna().sum())\n",
    "\n",
    "# # Check % of users with any overdue\n",
    "# print(\"Users with non-zero overdue amount:\",\n",
    "#       (acc_overdue_feats['acc_total_overdue'] > 0).sum(), \"/\", len(acc_overdue_feats))\n",
    "\n",
    "# # Check if overdue/loan ratios are bounded between 0 and 1+ (can exceed 1 in rare bad cases)\n",
    "# print(\"Overdue ratio > 1:\", (acc_overdue_feats['acc_overdue_amount_ratio'] > 1).sum())\n"
   ]
  },
  {
   "cell_type": "code",
   "execution_count": null,
   "id": "2d4c9d29-03ba-4b5c-9fe8-e19aeb3363ab",
   "metadata": {
    "jupyter": {
     "source_hidden": true
    }
   },
   "outputs": [],
   "source": [
    "# #4. Features based on loan_duration_days\n",
    "\n",
    "# acc_tenure_feats = df_acc_dedupe.groupby('uid').agg(\n",
    "#     acc_avg_loan_duration_days=('loan_duration_days', 'mean'),   # skips NaNs\n",
    "#     acc_max_loan_duration_days=('loan_duration_days', 'max')     # skips NaNs\n",
    "# ).reset_index()\n",
    "\n",
    "# acc_tenure_feats['acc_avg_duration_per_loan'] = acc_tenure_feats['acc_avg_loan_duration_days']"
   ]
  },
  {
   "cell_type": "code",
   "execution_count": null,
   "id": "5362fc59-79bb-4679-8d98-cdcd90c174fe",
   "metadata": {
    "jupyter": {
     "source_hidden": true
    }
   },
   "outputs": [],
   "source": [
    "# #sanity checks for the features created above\n",
    "\n",
    "# print(\"Tenure Features:\")\n",
    "# print(acc_tenure_feats.describe())\n",
    "# print(\"Missing values in acc_tenure_feats:\")\n",
    "# print(acc_tenure_feats.isna().sum())\n",
    "\n",
    "# # Check for negative durations (should not happen)\n",
    "# print(\"Negative durations?\",\n",
    "#       (acc_tenure_feats[['acc_avg_loan_duration_days', 'acc_max_loan_duration_days']] < 0).any())\n"
   ]
  },
  {
   "cell_type": "code",
   "execution_count": null,
   "id": "0ae67528-883f-4d63-9652-08226ef45a59",
   "metadata": {
    "jupyter": {
     "source_hidden": true
    }
   },
   "outputs": [],
   "source": [
    "# #5. Features based on payment_hist_string\n",
    "# def parse_payment_hist(s):\n",
    "#     if pd.isna(s) or not isinstance(s, str):\n",
    "#         return []\n",
    "#     return [int(s[i:i+3]) for i in range(0, len(s), 3)]\n",
    "\n",
    "# df_acc_dedupe['overdue_list'] = df_acc_dedupe['payment_hist_string'].apply(parse_payment_hist)"
   ]
  },
  {
   "cell_type": "code",
   "execution_count": null,
   "id": "5bc6943d-595d-44b4-a04c-b6242ae9bd28",
   "metadata": {
    "jupyter": {
     "source_hidden": true
    }
   },
   "outputs": [],
   "source": [
    "# # creating features to track DPD using the manipulation done above\n",
    "# def get_ph_features(overdues):\n",
    "#     if not overdues:\n",
    "#         return pd.Series({\n",
    "#             'ph_num_months': 0,\n",
    "#             'ph_num_on_time': 0,\n",
    "#             'ph_num_late': 0,\n",
    "#             'ph_max_overdue': np.nan,\n",
    "#             'ph_avg_overdue': np.nan,\n",
    "#             'ph_std_overdue': np.nan,\n",
    "#             'ph_recent_overdue': np.nan,\n",
    "#             'ph_num_very_late': 0\n",
    "#         })\n",
    "    \n",
    "#     overdues = np.array(overdues)\n",
    "#     return pd.Series({\n",
    "#         'ph_num_months': len(overdues),\n",
    "#         'ph_num_on_time': np.sum(overdues == 0),\n",
    "#         'ph_num_late': np.sum(overdues > 0),\n",
    "#         'ph_max_overdue': np.max(overdues),\n",
    "#         'ph_avg_overdue': np.mean(overdues),\n",
    "#         'ph_std_overdue': np.std(overdues),\n",
    "#         'ph_recent_overdue': overdues[-1],\n",
    "#         'ph_num_very_late': np.sum(overdues > 30)\n",
    "#     })\n",
    "\n",
    "# ph_features = df_acc_dedupe['overdue_list'].apply(get_ph_features)\n",
    "# df_acc_dedupe = pd.concat([df_acc_dedupe, ph_features], axis=1)\n"
   ]
  },
  {
   "cell_type": "code",
   "execution_count": null,
   "id": "f51fc59f-a6c3-4091-8f2a-298e54c9a3a4",
   "metadata": {
    "jupyter": {
     "source_hidden": true
    }
   },
   "outputs": [],
   "source": [
    "# # creating features at a UID level\n",
    "# ph_uid_feats = df_acc_dedupe.groupby('uid').agg(\n",
    "#     ph_avg_num_months=('ph_num_months', 'mean'),\n",
    "#     ph_total_num_on_time=('ph_num_on_time', 'sum'),\n",
    "#     ph_total_num_late=('ph_num_late', 'sum'),\n",
    "#     ph_max_overdue=('ph_max_overdue', 'max'),\n",
    "#     ph_avg_overdue=('ph_avg_overdue', 'mean'),\n",
    "#     ph_std_overdue=('ph_std_overdue', 'mean'),\n",
    "#     ph_avg_recent_overdue=('ph_recent_overdue', 'mean'),\n",
    "#     ph_total_very_late=('ph_num_very_late', 'sum')\n",
    "# ).reset_index()"
   ]
  },
  {
   "cell_type": "code",
   "execution_count": null,
   "id": "15ea056f-cd49-4c61-be80-85ef34b0a101",
   "metadata": {
    "jupyter": {
     "source_hidden": true
    }
   },
   "outputs": [],
   "source": [
    "# #merging all features with features with df_flag\n",
    "\n",
    "# # Start with base set (e.g., df_flag with uid)\n",
    "# df_features = df_flag.copy()\n",
    "\n",
    "# # Merge all feature sets\n",
    "# df_features = df_features.merge(acc_loan_feats, on='uid', how='left')\n",
    "# df_features = df_features.merge(credit_type_enc, on='uid', how='left')\n",
    "# df_features = df_features.merge(acc_overdue_feats, on='uid', how='left')\n",
    "# df_features = df_features.merge(acc_tenure_feats, on='uid', how='left')\n",
    "# df_features = df_features.merge(ph_uid_feats, on='uid', how='left')\n",
    "\n",
    "# # Sanity checks\n",
    "# print(\"Final shape:\", df_features.shape)\n",
    "# print(\"Missing values:\\n\", df_features.isna().sum())\n"
   ]
  },
  {
   "cell_type": "code",
   "execution_count": null,
   "id": "01cc1519-c710-46ed-9e56-71e28185f2ca",
   "metadata": {
    "jupyter": {
     "source_hidden": true
    }
   },
   "outputs": [],
   "source": [
    "# print(df_features.shape)\n",
    "# print(df_features[['ph_avg_overdue', 'ph_max_overdue', 'ph_total_num_late']].describe())\n",
    "# print(\"Nulls in new repayment features:\\n\", df_features.filter(like='ph_').isna().sum())"
   ]
  },
  {
   "cell_type": "markdown",
   "id": "bc9ff677-d6bd-4f06-bbbb-14501cfb1882",
   "metadata": {},
   "source": [
    "B. Feature Engineering for Enquiry data (depreciated, combined into a function)\n"
   ]
  },
  {
   "cell_type": "code",
   "execution_count": null,
   "id": "410a008b-9a52-4d78-9ee6-b7ece79687c0",
   "metadata": {
    "jupyter": {
     "source_hidden": true
    }
   },
   "outputs": [],
   "source": [
    "# # 1. Grouping by uid to create features\n",
    "# enq_features = df_enq_dedupe.groupby('uid').agg(\n",
    "#     enq_total_enquiries=('enquiry_amt', 'count'),\n",
    "#     enq_avg_enquiry_amt=('enquiry_amt', 'mean'),\n",
    "#     enq_max_enquiry_amt=('enquiry_amt', 'max'),\n",
    "#     enq_total_enquiry_amt=('enquiry_amt', 'sum'),\n",
    "#     enq_types_count=('enquiry_type', pd.Series.nunique)\n",
    "# ).reset_index()"
   ]
  },
  {
   "cell_type": "code",
   "execution_count": null,
   "id": "ceb8d2ea-ad4c-4434-90e7-071192c7265c",
   "metadata": {
    "jupyter": {
     "source_hidden": true
    }
   },
   "outputs": [],
   "source": [
    "# #checks on the features created above\n",
    "\n",
    "# print(\"Enquiry Features Summary:\")\n",
    "# print(enq_features.describe())\n",
    "\n",
    "# print(\"\\nMissing values in enquiry features:\")\n",
    "# print(enq_features.isna().sum())\n",
    "\n",
    "# # Plot to see distribution\n",
    "# enq_features[['enq_total_enquiries', 'enq_avg_enquiry_amt', 'enq_total_enquiry_amt']].hist(figsize=(10, 5))\n",
    "# plt.suptitle(\"Distribution of Enquiry Features\")\n",
    "# plt.show()\n"
   ]
  },
  {
   "cell_type": "code",
   "execution_count": null,
   "id": "1683ca89-954a-4575-8b27-48637ae2c8aa",
   "metadata": {
    "jupyter": {
     "source_hidden": true
    }
   },
   "outputs": [],
   "source": [
    "# # Merge on uid\n",
    "# df_features_2 = df_features.merge(enq_features, on='uid', how='left')\n",
    "# df_features_2.shape"
   ]
  },
  {
   "cell_type": "code",
   "execution_count": 101,
   "id": "695cb2f0-fc06-4462-8943-c1dd411291c6",
   "metadata": {},
   "outputs": [
    {
     "name": "stderr",
     "output_type": "stream",
     "text": [
      "C:\\Users\\lenvo\\AppData\\Local\\Temp\\ipykernel_42484\\2402737514.py:145: SettingWithCopyWarning: \n",
      "A value is trying to be set on a copy of a slice from a DataFrame.\n",
      "Try using .loc[row_indexer,col_indexer] = value instead\n",
      "\n",
      "See the caveats in the documentation: https://pandas.pydata.org/pandas-docs/stable/user_guide/indexing.html#returning-a-view-versus-a-copy\n",
      "  df_enq_dedupe['loan_type_group'] = df_enq_dedupe['enquiry_type'].apply(group_loan_type)\n"
     ]
    },
    {
     "name": "stdout",
     "output_type": "stream",
     "text": [
      "Features Summary:\n",
      "              TARGET  NAME_CONTRACT_TYPE_FE  acc_total_loans  \\\n",
      "count  261383.000000          261383.000000    223918.000000   \n",
      "mean        0.080560               0.827879         5.532758   \n",
      "std         0.272159               0.237561         4.357408   \n",
      "min         0.000000               0.095106         0.000000   \n",
      "25%         0.000000               0.904894         2.000000   \n",
      "50%         0.000000               0.904894         4.000000   \n",
      "75%         0.000000               0.904894         8.000000   \n",
      "max         1.000000               0.904894       116.000000   \n",
      "\n",
      "       acc_active_loans  acc_closed_loans  acc_avg_loan_amount  \\\n",
      "count     223918.000000     223918.000000         2.239170e+05   \n",
      "mean           2.050286          3.482480         3.788428e+05   \n",
      "std            1.771395          3.381882         9.153089e+05   \n",
      "min            0.000000          0.000000         0.000000e+00   \n",
      "25%            1.000000          1.000000         1.035000e+05   \n",
      "50%            2.000000          3.000000         1.954059e+05   \n",
      "75%            3.000000          5.000000         3.944520e+05   \n",
      "max           32.000000        108.000000         1.980723e+08   \n",
      "\n",
      "       acc_max_loan_amount  acc_sum_loan_amount  acc_loan_amount_std  \\\n",
      "count         2.239170e+05         2.239180e+05         1.930630e+05   \n",
      "mean          9.776291e+05         1.943698e+06         4.120547e+05   \n",
      "std           2.145655e+06         4.060816e+06         1.088811e+06   \n",
      "min           0.000000e+00         0.000000e+00         0.000000e+00   \n",
      "25%           1.800000e+05         3.435715e+05         7.719660e+04   \n",
      "50%           4.500000e+05         9.576000e+05         1.827051e+05   \n",
      "75%           1.044000e+06         2.283212e+06         4.283884e+05   \n",
      "max           3.960000e+08         8.852079e+08         2.799120e+08   \n",
      "\n",
      "       acc_total_overdue  ...  enq_type_Business - Purposeed  \\\n",
      "count       2.239180e+05  ...                  261383.000000   \n",
      "mean        2.334877e+02  ...                       1.135743   \n",
      "std         1.721125e+04  ...                       1.463628   \n",
      "min         0.000000e+00  ...                       0.000000   \n",
      "25%         0.000000e+00  ...                       0.000000   \n",
      "50%         0.000000e+00  ...                       1.000000   \n",
      "75%         0.000000e+00  ...                       2.000000   \n",
      "max         3.756681e+06  ...                      19.000000   \n",
      "\n",
      "       enq_type_Retail - Personal  enq_type_Retail - Revolving  \\\n",
      "count               261383.000000                261383.000000   \n",
      "mean                     2.675775                     1.218970   \n",
      "std                      2.891170                     1.578047   \n",
      "min                      0.000000                     0.000000   \n",
      "25%                      1.000000                     0.000000   \n",
      "50%                      2.000000                     1.000000   \n",
      "75%                      4.000000                     2.000000   \n",
      "max                     31.000000                    17.000000   \n",
      "\n",
      "       enq_type_Retail - Secured Asset  acc_type_ambiguous_other  \\\n",
      "count                    261383.000000             223918.000000   \n",
      "mean                          1.138314                  0.004935   \n",
      "std                           1.469880                  0.075357   \n",
      "min                           0.000000                  0.000000   \n",
      "25%                           0.000000                  0.000000   \n",
      "50%                           1.000000                  0.000000   \n",
      "75%                           2.000000                  0.000000   \n",
      "max                          15.000000                  4.000000   \n",
      "\n",
      "       acc_type_business_purposeed  acc_type_institutional  \\\n",
      "count                223918.000000           223918.000000   \n",
      "mean                      0.008025                0.000004   \n",
      "std                       0.112592                0.002113   \n",
      "min                       0.000000                0.000000   \n",
      "25%                       0.000000                0.000000   \n",
      "50%                       0.000000                0.000000   \n",
      "75%                       0.000000                0.000000   \n",
      "max                       8.000000                1.000000   \n",
      "\n",
      "       acc_type_retail_personal  acc_type_retail_revolving  \\\n",
      "count             223918.000000              223918.000000   \n",
      "mean                   4.076769                   1.295037   \n",
      "std                    3.542923                   1.480056   \n",
      "min                    0.000000                   0.000000   \n",
      "25%                    2.000000                   0.000000   \n",
      "50%                    3.000000                   1.000000   \n",
      "75%                    6.000000                   2.000000   \n",
      "max                  107.000000                  22.000000   \n",
      "\n",
      "       acc_type_retail_secured_asset  \n",
      "count                  223918.000000  \n",
      "mean                        0.147996  \n",
      "std                         0.439443  \n",
      "min                         0.000000  \n",
      "25%                         0.000000  \n",
      "50%                         0.000000  \n",
      "75%                         0.000000  \n",
      "max                        13.000000  \n",
      "\n",
      "[8 rows x 40 columns]\n",
      "\n",
      "Missing values in features:\n",
      "uid                                    0\n",
      "NAME_CONTRACT_TYPE                     0\n",
      "TARGET                                 0\n",
      "NAME_CONTRACT_TYPE_FE                  0\n",
      "acc_total_loans                    37465\n",
      "acc_active_loans                   37465\n",
      "acc_closed_loans                   37465\n",
      "acc_avg_loan_amount                37466\n",
      "acc_max_loan_amount                37466\n",
      "acc_sum_loan_amount                37465\n",
      "acc_loan_amount_std                68320\n",
      "acc_total_overdue                  37465\n",
      "acc_avg_overdue                    37465\n",
      "acc_max_overdue                    37465\n",
      "acc_overdue_amount_ratio           37465\n",
      "acc_avg_loan_duration_days         65642\n",
      "acc_max_loan_duration_days         65642\n",
      "acc_avg_duration_per_loan          65642\n",
      "ph_avg_num_months                  37465\n",
      "ph_total_num_on_time               37465\n",
      "ph_total_num_late                  37465\n",
      "ph_max_overdue                     38264\n",
      "ph_avg_overdue                     38264\n",
      "ph_std_overdue                     38264\n",
      "ph_avg_recent_overdue              38264\n",
      "ph_total_very_late                 37465\n",
      "enq_total_enquiries                    0\n",
      "enq_avg_enquiry_amt                    0\n",
      "enq_max_enquiry_amt                    0\n",
      "enq_total_enquiry_amt                  0\n",
      "enq_types_count                        0\n",
      "enq_type_Ambiguous / Other             0\n",
      "enq_type_Business - Purposeed          0\n",
      "enq_type_Retail - Personal             0\n",
      "enq_type_Retail - Revolving            0\n",
      "enq_type_Retail - Secured Asset        0\n",
      "acc_type_ambiguous_other           37465\n",
      "acc_type_business_purposeed        37465\n",
      "acc_type_institutional             37465\n",
      "acc_type_retail_personal           37465\n",
      "acc_type_retail_revolving          37465\n",
      "acc_type_retail_secured_asset      37465\n",
      "dtype: int64\n"
     ]
    }
   ],
   "source": [
    "# function that combines the entire feature engineering process \n",
    "def feat_eng(df_flag: pd.DataFrame, df_acc_dedupe: pd.DataFrame, df_enq_dedupe: pd.DataFrame):\n",
    "    import numpy as np\n",
    "    import matplotlib.pyplot as plt\n",
    "    import pandas as pd\n",
    "\n",
    "    #################################### --- Feature Engineering on Account Data --- #############################################################\n",
    "    \n",
    "    ########### 1. Features by mapping credit type based smaller coherent categories \n",
    "    def map_credit_type(ct):\n",
    "        if ct in ['Cash loan (non-earmarked)', 'Consumer credit', 'Microloan', 'Mobile operator loan']:\n",
    "            return 'retail_personal'\n",
    "        elif ct in ['Car loan', 'Mortgage', 'Real estate loan']:\n",
    "            return 'retail_secured_asset'\n",
    "        elif ct in ['Credit card', 'Loan for purchase of shares (margin lending)']:\n",
    "            return 'retail_revolving'\n",
    "        elif ct in ['Loan for working capital replenishment', 'Loan for business development', 'Loan for the purchase of equipment']:\n",
    "            return 'business_purposeed'\n",
    "        elif ct in ['Interbank credit']:\n",
    "            return 'institutional'\n",
    "        else:\n",
    "            return 'ambiguous_other'\n",
    "\n",
    "    df_acc_dedupe['credit_type_group'] = df_acc_dedupe['credit_type'].apply(map_credit_type)\n",
    "\n",
    "    # one hot encode and group by uid to roll up at uid level \n",
    "    credit_type_ohe = pd.get_dummies(df_acc_dedupe['credit_type_group'], prefix='acc_type')\n",
    "    df_acc_ohe = pd.concat([df_acc_dedupe[['uid']], credit_type_ohe], axis=1)\n",
    "    acc_group_feats = df_acc_ohe.groupby('uid').sum().reset_index()\n",
    "\n",
    "    ########### 2. Features from open date and closed date\n",
    "    df_acc_dedupe['open_date'] = pd.to_datetime(df_acc_dedupe['open_date'], errors='coerce') #coerce takes care of nulls while conversion to datetime\n",
    "    df_acc_dedupe['closed_date'] = pd.to_datetime(df_acc_dedupe['closed_date'], errors='coerce')\n",
    "\n",
    "    df_acc_dedupe['loan_duration_days'] = (\n",
    "        df_acc_dedupe['closed_date'] - df_acc_dedupe['open_date']\n",
    "    ).dt.days\n",
    "\n",
    "    # group by at uid level to create features using tenure\n",
    "    acc_tenure_feats = df_acc_dedupe.groupby('uid').agg(\n",
    "        acc_avg_loan_duration_days=('loan_duration_days', 'mean'),\n",
    "        acc_max_loan_duration_days=('loan_duration_days', 'max')\n",
    "    ).reset_index()\n",
    "    acc_tenure_feats['acc_avg_duration_per_loan'] = acc_tenure_feats['acc_avg_loan_duration_days']\n",
    "\n",
    "    ########### 3. Features from loan amount and closed date\n",
    "    acc_loan_feats = df_acc_dedupe.groupby('uid').agg(\n",
    "        acc_total_loans=('loan_amount', 'count'),\n",
    "        acc_active_loans=('closed_date', lambda x: x.isna().sum()),\n",
    "        acc_closed_loans=('closed_date', lambda x: x.notna().sum()),\n",
    "        acc_avg_loan_amount=('loan_amount', 'mean'),\n",
    "        acc_max_loan_amount=('loan_amount', 'max'),\n",
    "        acc_sum_loan_amount=('loan_amount', 'sum'),\n",
    "        acc_loan_amount_std=('loan_amount', 'std')\n",
    "    ).reset_index()\n",
    "\n",
    "    ########### 4. Features from amount_overdue\n",
    "    acc_overdue_feats = df_acc_dedupe.groupby('uid').agg(\n",
    "        acc_total_overdue=('amount_overdue', 'sum'),\n",
    "        acc_avg_overdue=('amount_overdue', 'mean'),\n",
    "        acc_max_overdue=('amount_overdue', 'max')\n",
    "    ).reset_index()\n",
    "\n",
    "    # manipulation for overdue/loan_amount ratio\n",
    "    acc_overdue_feats = acc_overdue_feats.merge(\n",
    "        acc_loan_feats[['uid', 'acc_sum_loan_amount']], on='uid', how='left'\n",
    "    )\n",
    "    acc_overdue_feats['acc_overdue_amount_ratio'] = (\n",
    "        acc_overdue_feats['acc_total_overdue'] / (acc_overdue_feats['acc_sum_loan_amount'] + 1e-6)\n",
    "    )\n",
    "    acc_overdue_feats.drop(columns='acc_sum_loan_amount', inplace=True)\n",
    "\n",
    "    \n",
    "    ########### 5. Features from payment_hist_string\n",
    "    #creating a list of integers from the string where each value is each months overdue\n",
    "    def parse_payment_hist(s):\n",
    "        if pd.isna(s) or not isinstance(s, str):\n",
    "            return []\n",
    "        return [int(s[i:i+3]) for i in range(0, len(s), 3)]\n",
    "\n",
    "    df_acc_dedupe['overdue_list'] = df_acc_dedupe['payment_hist_string'].apply(parse_payment_hist)\n",
    "\n",
    "    # function to create features from overdue_list\n",
    "    def get_ph_features(overdues):\n",
    "        if not overdues:\n",
    "            return pd.Series({\n",
    "                'ph_num_months': 0,\n",
    "                'ph_num_on_time': 0,\n",
    "                'ph_num_late': 0,\n",
    "                'ph_max_overdue': np.nan,\n",
    "                'ph_avg_overdue': np.nan,\n",
    "                'ph_std_overdue': np.nan,\n",
    "                'ph_recent_overdue': np.nan,\n",
    "                'ph_num_very_late': 0\n",
    "            })\n",
    "        overdues = np.array(overdues)\n",
    "        return pd.Series({\n",
    "            'ph_num_months': len(overdues), #duration of payments\n",
    "            'ph_num_on_time': np.sum(overdues == 0),\n",
    "            'ph_num_late': np.sum(overdues > 0),\n",
    "            'ph_max_overdue': np.max(overdues),\n",
    "            'ph_avg_overdue': np.mean(overdues),\n",
    "            'ph_std_overdue': np.std(overdues),\n",
    "            'ph_recent_overdue': overdues[-1],\n",
    "            'ph_num_very_late': np.sum(overdues > 30)\n",
    "        })\n",
    "\n",
    "    ph_features = df_acc_dedupe['overdue_list'].apply(get_ph_features)\n",
    "    df_acc_dedupe = pd.concat([df_acc_dedupe, ph_features], axis=1)\n",
    "\n",
    "    ph_uid_feats = df_acc_dedupe.groupby('uid').agg(\n",
    "        ph_avg_num_months=('ph_num_months', 'mean'),\n",
    "        ph_total_num_on_time=('ph_num_on_time', 'sum'),\n",
    "        ph_total_num_late=('ph_num_late', 'sum'),\n",
    "        ph_max_overdue=('ph_max_overdue', 'max'),\n",
    "        ph_avg_overdue=('ph_avg_overdue', 'mean'),\n",
    "        ph_std_overdue=('ph_std_overdue', 'mean'),\n",
    "        ph_avg_recent_overdue=('ph_recent_overdue', 'mean'),\n",
    "        ph_total_very_late=('ph_num_very_late', 'sum')\n",
    "    ).reset_index()\n",
    "\n",
    "\n",
    "    #################################### --- Feature Engineering on Enquiry Data --- #############################################################\n",
    "    \n",
    "    #1. Creating features for enquiry type category columns\n",
    "    def group_loan_type(loan_type):\n",
    "        if loan_type in [\n",
    "            'Cash loans', 'Cash loan (non-earmarked)', 'Consumer credit',\n",
    "            'Microloan', 'Mobile operator loan'\n",
    "        ]:\n",
    "            return 'Retail - Personal'\n",
    "        elif loan_type in ['Car loan', 'Mortgage', 'Real estate loan']:\n",
    "            return 'Retail - Secured Asset'\n",
    "        elif loan_type in ['Revolving loans', 'Credit card', 'Loan for purchase of shares (margin lending)']:\n",
    "            return 'Retail - Revolving'\n",
    "        elif loan_type in [\n",
    "            'Loan for working capital replenishment',\n",
    "            'Loan for business development',\n",
    "            'Loan for the purchase of equipment'\n",
    "        ]:\n",
    "            return 'Business - Purposeed'\n",
    "        else:\n",
    "            return 'Ambiguous / Other'\n",
    "\n",
    "    df_enq_dedupe['loan_type_group'] = df_enq_dedupe['enquiry_type'].apply(group_loan_type)\n",
    "\n",
    "    enq_group_ohe = pd.get_dummies(df_enq_dedupe['loan_type_group'], prefix='enq_type')\n",
    "    df_enq_ohe = pd.concat([df_enq_dedupe[['uid']], enq_group_ohe], axis=1)\n",
    "    enq_group_feats = df_enq_ohe.groupby('uid').sum().reset_index()\n",
    "\n",
    "    #2. Creating features from enquiry amount\n",
    "    enq_features = df_enq_dedupe.groupby('uid').agg(\n",
    "    enq_total_enquiries=('enquiry_amt', 'count'),\n",
    "    enq_avg_enquiry_amt=('enquiry_amt', 'mean'),\n",
    "    enq_max_enquiry_amt=('enquiry_amt', 'max'),\n",
    "    enq_total_enquiry_amt=('enquiry_amt', 'sum'),\n",
    "    enq_types_count=('enquiry_type', pd.Series.nunique)\n",
    "    ).reset_index()\n",
    "\n",
    "    # enq_features[['enq_total_enquiries', 'enq_avg_enquiry_amt', 'enq_total_enquiry_amt']].hist(figsize=(10, 5))\n",
    "    # plt.suptitle(\"Distribution of Enquiry Features\")\n",
    "    # plt.show()\n",
    "\n",
    "    #################################### --- Merge all Feature DataFrames --- #############################################################\n",
    "\n",
    "    #frequency encoding contract type features\n",
    "    contract_type_freq = df_flag['NAME_CONTRACT_TYPE'].value_counts(normalize=True).to_dict()\n",
    "    df_flag['NAME_CONTRACT_TYPE_FE'] = df_flag['NAME_CONTRACT_TYPE'].map(contract_type_freq)\n",
    "    \n",
    "    df_features = df_flag.copy()\n",
    "    df_features = df_features.merge(acc_loan_feats, on='uid', how='left')\n",
    "    df_features = df_features.merge(acc_overdue_feats, on='uid', how='left')\n",
    "    df_features = df_features.merge(acc_tenure_feats, on='uid', how='left')\n",
    "    df_features = df_features.merge(ph_uid_feats, on='uid', how='left')\n",
    "    df_features = df_features.merge(enq_features, on='uid', how='left')\n",
    "    df_features = df_features.merge(enq_group_feats, on='uid', how='left')\n",
    "    df_features = df_features.merge(acc_group_feats, on='uid', how='left')\n",
    "\n",
    "    print(\"Features Summary:\")\n",
    "    print(df_features.describe())\n",
    "\n",
    "    print(\"\\nMissing values in features:\")\n",
    "    print(df_features.isna().sum())\n",
    "    \n",
    "    return df_features\n",
    "\n",
    "df_features = feat_eng(df_flag, df_acc_dedupe, df_enq_dedupe)"
   ]
  },
  {
   "cell_type": "markdown",
   "id": "75427eb5-572e-4849-ab39-4c7aba85a9c6",
   "metadata": {},
   "source": [
    "# 5. Feature Selection"
   ]
  },
  {
   "cell_type": "code",
   "execution_count": 102,
   "id": "bfa501a8-eb72-48ae-a606-39dac906264c",
   "metadata": {},
   "outputs": [],
   "source": [
    "#splitting the df_features into train and validation sets\n",
    "X = df_features.drop(columns=['TARGET','uid','NAME_CONTRACT_TYPE'])\n",
    "y = df_features['TARGET']\n",
    "X_train, X_valid, y_train, y_valid = train_test_split(\n",
    "    X, y, test_size=0.2, stratify=y, random_state=42\n",
    ")"
   ]
  },
  {
   "cell_type": "code",
   "execution_count": 103,
   "id": "ebf205cb-7670-420c-8e0b-63e5df984c99",
   "metadata": {},
   "outputs": [
    {
     "name": "stdout",
     "output_type": "stream",
     "text": [
      "#Features: 39 | AUC: 0.63044\n",
      "#Features: 38 | AUC: 0.63044\n",
      "#Features: 37 | AUC: 0.63044\n",
      "#Features: 36 | AUC: 0.63029\n",
      "#Features: 35 | AUC: 0.63027\n",
      "#Features: 34 | AUC: 0.63041\n",
      "#Features: 33 | AUC: 0.63006\n",
      "#Features: 32 | AUC: 0.63025\n",
      "#Features: 31 | AUC: 0.63073\n",
      "#Features: 30 | AUC: 0.62980\n",
      "#Features: 29 | AUC: 0.63005\n",
      "#Features: 28 | AUC: 0.62967\n",
      "#Features: 27 | AUC: 0.62999\n",
      "#Features: 26 | AUC: 0.62925\n",
      "#Features: 25 | AUC: 0.62924\n",
      "#Features: 24 | AUC: 0.62905\n",
      "#Features: 23 | AUC: 0.62880\n",
      "#Features: 22 | AUC: 0.62861\n",
      "#Features: 21 | AUC: 0.62851\n",
      "#Features: 20 | AUC: 0.62885\n",
      "#Features: 19 | AUC: 0.62811\n",
      "#Features: 18 | AUC: 0.62822\n",
      "#Features: 17 | AUC: 0.62817\n",
      "#Features: 16 | AUC: 0.62792\n",
      "#Features: 15 | AUC: 0.62878\n",
      "#Features: 14 | AUC: 0.62774\n",
      "#Features: 13 | AUC: 0.62662\n",
      "#Features: 12 | AUC: 0.62634\n",
      "#Features: 11 | AUC: 0.62631\n",
      "#Features: 10 | AUC: 0.60351\n",
      "#Features: 9 | AUC: 0.60313\n",
      "#Features: 8 | AUC: 0.60388\n",
      "#Features: 7 | AUC: 0.60413\n",
      "#Features: 6 | AUC: 0.60037\n",
      "#Features: 5 | AUC: 0.59722\n",
      "#Features: 4 | AUC: 0.58457\n",
      "#Features: 3 | AUC: 0.58233\n",
      "#Features: 2 | AUC: 0.55453\n"
     ]
    },
    {
     "data": {
      "image/png": "[encoded data removed]",
      "text/plain": [
       "<Figure size 1000x500 with 1 Axes>"
      ]
     },
     "metadata": {},
     "output_type": "display_data"
    }
   ],
   "source": [
    "# custom rfe function to find out least important features by checking feature importance in an iterative fashion\n",
    "def lgbm_rfe_auc(X_train, y_train, X_valid, y_valid, step=1, random_state=2025):\n",
    "    auc_scores = []\n",
    "    features_list = []\n",
    "\n",
    "    # Start with all features\n",
    "    current_features = list(X_train.columns)\n",
    "\n",
    "    while len(current_features) > step:\n",
    "        # Train LightGBM\n",
    "        model = LGBMClassifier(\n",
    "            objective='binary',\n",
    "            boosting_type='gbdt',\n",
    "            n_estimators=1000,\n",
    "            learning_rate=0.01,\n",
    "            random_state=random_state,\n",
    "            verbose=-1\n",
    "        )\n",
    "        model.fit(\n",
    "            X_train[current_features], y_train,\n",
    "            eval_set=[(X_valid[current_features], y_valid)],\n",
    "            eval_metric='auc'\n",
    "        )\n",
    "\n",
    "        # Evaluate\n",
    "        preds = model.predict_proba(X_valid[current_features])[:, 1]\n",
    "        auc = roc_auc_score(y_valid, preds)\n",
    "        auc_scores.append(auc)\n",
    "        features_list.append(len(current_features))\n",
    "\n",
    "        print(f\"#Features: {len(current_features)} | AUC: {auc:.5f}\")\n",
    "\n",
    "        # Get feature importances\n",
    "        importances = pd.Series(model.feature_importances_, index=current_features)\n",
    "        least_important = importances.nsmallest(step).index.tolist()\n",
    "\n",
    "        # Drop least important features\n",
    "        current_features = [f for f in current_features if f not in least_important]\n",
    "\n",
    "    # Plotting\n",
    "    plt.figure(figsize=(10, 5))\n",
    "    plt.plot(features_list, auc_scores, marker='o')\n",
    "    plt.xlabel(\"Number of Features\")\n",
    "    plt.ylabel(\"Validation ROC-AUC\")\n",
    "    plt.title(\"RFE using LightGBM - AUC vs. Number of Features\")\n",
    "    plt.gca().invert_xaxis()\n",
    "    plt.grid(True)\n",
    "    plt.show()\n",
    "\n",
    "lgbm_rfe_auc(X_train, y_train, X_valid, y_valid, step=1, random_state=2025)"
   ]
  },
  {
   "cell_type": "markdown",
   "id": "1351b582-af9e-4971-adac-b28fef60f43c",
   "metadata": {},
   "source": [
    "# 6. Model Training"
   ]
  },
  {
   "cell_type": "code",
   "execution_count": 127,
   "id": "037f9448-034c-421f-9f86-688df07f21a0",
   "metadata": {},
   "outputs": [
    {
     "name": "stdout",
     "output_type": "stream",
     "text": [
      "LGBMClassifier ROC-AUC (Train Set): 0.7062597247850103\n",
      "LGBMClassifier ROC-AUC (Validation Set): 0.6282770742591796\n"
     ]
    }
   ],
   "source": [
    "#1. Training a base lgbm classifier\n",
    "\n",
    "scale_pos_weight = y_train.value_counts()[0] / y_train.value_counts()[1]\n",
    "\n",
    "# Base model with key params\n",
    "lgb_clf = LGBMClassifier(\n",
    "    objective='binary',\n",
    "    boosting_type='gbdt',\n",
    "    scale_pos_weight=scale_pos_weight,\n",
    "    n_estimators=1000,\n",
    "    learning_rate=0.01,\n",
    "    random_state=2025,\n",
    "    verbose = -1\n",
    ")\n",
    "\n",
    "lgb_clf.fit(\n",
    "    X_train, y_train,\n",
    "    eval_set=[(X_valid, y_valid)],\n",
    "    eval_metric='auc'\n",
    ")\n",
    "\n",
    "# Predict\n",
    "y_pred_train_lgb = lgb_clf.predict_proba(X_train)[:, 1]\n",
    "y_pred_valid_lgb = lgb_clf.predict_proba(X_valid)[:, 1]\n",
    "print(\"LGBMClassifier ROC-AUC (Train Set):\", roc_auc_score(y_train, y_pred_train_lgb))\n",
    "print(\"LGBMClassifier ROC-AUC (Validation Set):\", roc_auc_score(y_valid, y_pred_valid_lgb))"
   ]
  },
  {
   "cell_type": "code",
   "execution_count": 120,
   "id": "2ec7c95b-9682-4612-8d0c-e5f60d7e1cde",
   "metadata": {},
   "outputs": [
    {
     "name": "stdout",
     "output_type": "stream",
     "text": [
      "CatboostClassifier ROC-AUC (Train Set): 0.6581113835333621\n",
      "CatboostClassifier ROC-AUC (Validation Set): 0.6304331153822048\n"
     ]
    }
   ],
   "source": [
    "#2. Training a base catboost classifier\n",
    "from catboost import CatBoostClassifier\n",
    "\n",
    "model_cat = CatBoostClassifier(\n",
    "    iterations=1000,\n",
    "    learning_rate=0.1,\n",
    "    loss_function='Logloss',\n",
    "    eval_metric='AUC',\n",
    "    verbose=0,\n",
    "    random_state=2025,\n",
    "    scale_pos_weight=scale_pos_weight\n",
    ")\n",
    "\n",
    "model_cat.fit(X_train, y_train, eval_set=(X_valid, y_valid), early_stopping_rounds=30)\n",
    "y_pred_train_cat = model_cat.predict_proba(X_train)[:, 1]\n",
    "y_pred_valid_cat = model_cat.predict_proba(X_valid)[:, 1]\n",
    "print(\"CatboostClassifier ROC-AUC (Train Set):\", roc_auc_score(y_train, y_pred_train_cat))\n",
    "print(\"CatboostClassifier ROC-AUC (Validation Set):\", roc_auc_score(y_valid, y_pred_valid_cat))\n"
   ]
  },
  {
   "cell_type": "code",
   "execution_count": 68,
   "id": "e0c7ee4b-2756-4e33-8ea8-1c0d8a95bf3a",
   "metadata": {},
   "outputs": [
    {
     "data": {
      "text/plain": [
       "3269"
      ]
     },
     "execution_count": 68,
     "metadata": {},
     "output_type": "execute_result"
    }
   ],
   "source": [
    "(y_pred_train_lgb>0.2).sum()"
   ]
  },
  {
   "cell_type": "markdown",
   "id": "b9000ccf-6a8c-4664-9432-38e24407a2a2",
   "metadata": {},
   "source": [
    "# 7. Hyperparameter Tuning"
   ]
  },
  {
   "cell_type": "code",
   "execution_count": 141,
   "id": "79c10071-d774-431a-89b5-b7afe471d319",
   "metadata": {
    "scrolled": true
   },
   "outputs": [
    {
     "name": "stderr",
     "output_type": "stream",
     "text": [
      "[I 2025-05-26 21:51:33,456] A new study created in memory with name: catboost_hyperparam_tuning\n",
      "[I 2025-05-26 21:51:38,163] Trial 0 finished with value: 0.6158235950067983 and parameters: {'learning_rate': 0.8391716315879564, 'depth': 10, 'l2_leaf_reg': 9.316131195239217, 'bagging_temperature': 0.042650778625643815, 'iterations': 566}. Best is trial 0 with value: 0.6158235950067983.\n",
      "[I 2025-05-26 21:51:41,904] Trial 1 finished with value: 0.6211738904324373 and parameters: {'learning_rate': 0.292236335372889, 'depth': 9, 'l2_leaf_reg': 0.10930791014928935, 'bagging_temperature': 0.8847381084197665, 'iterations': 551}. Best is trial 1 with value: 0.6211738904324373.\n",
      "[I 2025-05-26 21:51:46,052] Trial 2 finished with value: 0.6310907937547243 and parameters: {'learning_rate': 0.3541040331616676, 'depth': 4, 'l2_leaf_reg': 3.060076077832819, 'bagging_temperature': 0.08800403349250663, 'iterations': 739}. Best is trial 2 with value: 0.6310907937547243.\n",
      "[I 2025-05-26 21:51:50,116] Trial 3 finished with value: 0.6300624641790379 and parameters: {'learning_rate': 0.2230923516179967, 'depth': 6, 'l2_leaf_reg': 0.5042889437675604, 'bagging_temperature': 0.002328589703887496, 'iterations': 603}. Best is trial 2 with value: 0.6310907937547243.\n",
      "[I 2025-05-26 21:51:52,785] Trial 4 finished with value: 0.625585757306335 and parameters: {'learning_rate': 0.9803480610009585, 'depth': 6, 'l2_leaf_reg': 9.94416077578975, 'bagging_temperature': 0.6664696700522384, 'iterations': 713}. Best is trial 2 with value: 0.6310907937547243.\n",
      "[I 2025-05-26 21:51:56,321] Trial 5 finished with value: 0.6307449713700576 and parameters: {'learning_rate': 0.3851156177103013, 'depth': 4, 'l2_leaf_reg': 2.3866159631534862, 'bagging_temperature': 0.21435302773852372, 'iterations': 978}. Best is trial 2 with value: 0.6310907937547243.\n",
      "[I 2025-05-26 21:51:59,285] Trial 6 finished with value: 0.6271089587564743 and parameters: {'learning_rate': 0.39100842974550987, 'depth': 7, 'l2_leaf_reg': 6.250123401538491, 'bagging_temperature': 0.5663274480877694, 'iterations': 629}. Best is trial 2 with value: 0.6310907937547243.\n",
      "[I 2025-05-26 21:52:02,052] Trial 7 finished with value: 0.6230222379951464 and parameters: {'learning_rate': 0.8413302281365582, 'depth': 6, 'l2_leaf_reg': 9.01561877304487, 'bagging_temperature': 0.8651602763172209, 'iterations': 734}. Best is trial 2 with value: 0.6310907937547243.\n",
      "[I 2025-05-26 21:52:06,785] Trial 8 finished with value: 0.6235576323985692 and parameters: {'learning_rate': 0.35845894779277926, 'depth': 9, 'l2_leaf_reg': 6.275574706890908, 'bagging_temperature': 0.005319874187057483, 'iterations': 656}. Best is trial 2 with value: 0.6310907937547243.\n",
      "[I 2025-05-26 21:52:10,191] Trial 9 finished with value: 0.6171572911358336 and parameters: {'learning_rate': 0.8240271086458288, 'depth': 8, 'l2_leaf_reg': 4.59655793643645, 'bagging_temperature': 0.732366272779212, 'iterations': 721}. Best is trial 2 with value: 0.6310907937547243.\n",
      "[I 2025-05-26 21:52:40,602] Trial 10 finished with value: 0.6234902776512581 and parameters: {'learning_rate': 0.004234781494786566, 'depth': 4, 'l2_leaf_reg': 3.1882987516056307, 'bagging_temperature': 0.32883263983772426, 'iterations': 862}. Best is trial 2 with value: 0.6310907937547243.\n",
      "[I 2025-05-26 21:52:44,005] Trial 11 finished with value: 0.6276799795871589 and parameters: {'learning_rate': 0.5765652352310908, 'depth': 4, 'l2_leaf_reg': 2.3798894663247747, 'bagging_temperature': 0.27972084443345047, 'iterations': 993}. Best is trial 2 with value: 0.6310907937547243.\n",
      "[I 2025-05-26 21:52:47,145] Trial 12 finished with value: 0.6283240664603862 and parameters: {'learning_rate': 0.5615878297426886, 'depth': 4, 'l2_leaf_reg': 2.267328052677549, 'bagging_temperature': 0.24980000271655112, 'iterations': 833}. Best is trial 2 with value: 0.6310907937547243.\n",
      "[I 2025-05-26 21:52:54,906] Trial 13 finished with value: 0.6310429937708444 and parameters: {'learning_rate': 0.1521202906457517, 'depth': 5, 'l2_leaf_reg': 4.27602025236003, 'bagging_temperature': 0.16660928013402157, 'iterations': 858}. Best is trial 2 with value: 0.6310907937547243.\n",
      "[I 2025-05-26 21:53:02,482] Trial 14 finished with value: 0.6313588417366792 and parameters: {'learning_rate': 0.1168133326842431, 'depth': 5, 'l2_leaf_reg': 4.516946747850191, 'bagging_temperature': 0.4122771694907842, 'iterations': 830}. Best is trial 14 with value: 0.6313588417366792.\n",
      "[I 2025-05-26 21:53:17,019] Trial 15 finished with value: 0.6308138774553469 and parameters: {'learning_rate': 0.057504459065117086, 'depth': 5, 'l2_leaf_reg': 6.259286498254748, 'bagging_temperature': 0.4213090459086538, 'iterations': 807}. Best is trial 14 with value: 0.6313588417366792.\n",
      "[I 2025-05-26 21:53:24,949] Trial 16 finished with value: 0.6318151351952017 and parameters: {'learning_rate': 0.13668297535967971, 'depth': 5, 'l2_leaf_reg': 3.9328209097638287, 'bagging_temperature': 0.44407686832351057, 'iterations': 916}. Best is trial 16 with value: 0.6318151351952017.\n",
      "[I 2025-05-26 21:53:31,709] Trial 17 finished with value: 0.6297256607990815 and parameters: {'learning_rate': 0.12075351596463457, 'depth': 7, 'l2_leaf_reg': 7.940553812353263, 'bagging_temperature': 0.4665009375287341, 'iterations': 922}. Best is trial 16 with value: 0.6318151351952017.\n",
      "[I 2025-05-26 21:53:36,765] Trial 18 finished with value: 0.6317528519397204 and parameters: {'learning_rate': 0.19604433503806212, 'depth': 5, 'l2_leaf_reg': 5.382551608985879, 'bagging_temperature': 0.5577620914851011, 'iterations': 922}. Best is trial 16 with value: 0.6318151351952017.\n",
      "[I 2025-05-26 21:53:41,307] Trial 19 finished with value: 0.6301122675627592 and parameters: {'learning_rate': 0.22367727739748583, 'depth': 6, 'l2_leaf_reg': 7.442402948660405, 'bagging_temperature': 0.5797069557233608, 'iterations': 926}. Best is trial 16 with value: 0.6318151351952017.\n",
      "[I 2025-05-26 21:53:44,825] Trial 20 finished with value: 0.6278107119254996 and parameters: {'learning_rate': 0.4942148832560557, 'depth': 5, 'l2_leaf_reg': 5.583532684291272, 'bagging_temperature': 0.7443735534607412, 'iterations': 908}. Best is trial 16 with value: 0.6318151351952017.\n",
      "[I 2025-05-26 21:53:51,969] Trial 21 finished with value: 0.6299969275603126 and parameters: {'learning_rate': 0.1337001858360774, 'depth': 5, 'l2_leaf_reg': 3.910586714152183, 'bagging_temperature': 0.4322029442346866, 'iterations': 789}. Best is trial 16 with value: 0.6318151351952017.\n",
      "[I 2025-05-26 21:53:57,216] Trial 22 finished with value: 0.6287408008004667 and parameters: {'learning_rate': 0.24632620200037925, 'depth': 5, 'l2_leaf_reg': 4.999145083505766, 'bagging_temperature': 0.36022093405084754, 'iterations': 884}. Best is trial 16 with value: 0.6318151351952017.\n",
      "[I 2025-05-26 21:54:09,254] Trial 23 finished with value: 0.6307081913204459 and parameters: {'learning_rate': 0.06119320177748489, 'depth': 7, 'l2_leaf_reg': 5.296211041038906, 'bagging_temperature': 0.5470393127043465, 'iterations': 943}. Best is trial 16 with value: 0.6318151351952017.\n",
      "[I 2025-05-26 21:54:15,016] Trial 24 finished with value: 0.6314134251187884 and parameters: {'learning_rate': 0.17094816252202336, 'depth': 6, 'l2_leaf_reg': 1.2265230105725102, 'bagging_temperature': 0.6478518868955047, 'iterations': 789}. Best is trial 16 with value: 0.6318151351952017.\n",
      "[I 2025-05-26 21:54:17,772] Trial 25 finished with value: 0.6271259098411971 and parameters: {'learning_rate': 0.4546298445966868, 'depth': 6, 'l2_leaf_reg': 1.2017962583735302, 'bagging_temperature': 0.6687811717426937, 'iterations': 952}. Best is trial 16 with value: 0.6318151351952017.\n",
      "[I 2025-05-26 21:54:49,845] Trial 26 finished with value: 0.627374314129518 and parameters: {'learning_rate': 0.004812101947040293, 'depth': 7, 'l2_leaf_reg': 1.3552795819378467, 'bagging_temperature': 0.5206982535340015, 'iterations': 778}. Best is trial 16 with value: 0.6318151351952017.\n",
      "[I 2025-05-26 21:54:54,391] Trial 27 finished with value: 0.6296657119614175 and parameters: {'learning_rate': 0.20621548580900134, 'depth': 6, 'l2_leaf_reg': 3.671680441359154, 'bagging_temperature': 0.9808307304388805, 'iterations': 504}. Best is trial 16 with value: 0.6318151351952017.\n",
      "[I 2025-05-26 21:54:58,570] Trial 28 finished with value: 0.6278082935180465 and parameters: {'learning_rate': 0.29417068789228157, 'depth': 5, 'l2_leaf_reg': 7.25043751093457, 'bagging_temperature': 0.6346244595353887, 'iterations': 892}. Best is trial 16 with value: 0.6318151351952017.\n",
      "[I 2025-05-26 21:55:01,478] Trial 29 finished with value: 0.6205046387821669 and parameters: {'learning_rate': 0.6718668032120091, 'depth': 8, 'l2_leaf_reg': 1.584731699099219, 'bagging_temperature': 0.752761501656223, 'iterations': 687}. Best is trial 16 with value: 0.6318151351952017.\n",
      "[I 2025-05-26 21:55:08,307] Trial 30 finished with value: 0.6209896962206531 and parameters: {'learning_rate': 0.27964432356922275, 'depth': 10, 'l2_leaf_reg': 3.221812439774925, 'bagging_temperature': 0.833302770143946, 'iterations': 960}. Best is trial 16 with value: 0.6318151351952017.\n",
      "[I 2025-05-26 21:55:15,318] Trial 31 finished with value: 0.6298948999151339 and parameters: {'learning_rate': 0.1683119723517172, 'depth': 5, 'l2_leaf_reg': 5.761465365647863, 'bagging_temperature': 0.4158879053082264, 'iterations': 840}. Best is trial 16 with value: 0.6318151351952017.\n",
      "[I 2025-05-26 21:55:25,079] Trial 32 finished with value: 0.6314316187560636 and parameters: {'learning_rate': 0.08065843749613433, 'depth': 5, 'l2_leaf_reg': 4.902443134415809, 'bagging_temperature': 0.5085491693215638, 'iterations': 816}. Best is trial 16 with value: 0.6318151351952017.\n",
      "[I 2025-05-26 21:55:35,522] Trial 33 finished with value: 0.6317428003565468 and parameters: {'learning_rate': 0.07757814058429734, 'depth': 6, 'l2_leaf_reg': 6.8646496285232566, 'bagging_temperature': 0.6106057947875645, 'iterations': 777}. Best is trial 16 with value: 0.6318151351952017.\n",
      "[I 2025-05-26 21:55:49,204] Trial 34 finished with value: 0.6322147924661059 and parameters: {'learning_rate': 0.07148960931147057, 'depth': 4, 'l2_leaf_reg': 7.222195355249715, 'bagging_temperature': 0.49302009049245193, 'iterations': 753}. Best is trial 34 with value: 0.6322147924661059.\n",
      "[I 2025-05-26 21:56:11,848] Trial 35 finished with value: 0.6311899558711536 and parameters: {'learning_rate': 0.028708645881830565, 'depth': 4, 'l2_leaf_reg': 8.25291974703975, 'bagging_temperature': 0.602598644562968, 'iterations': 685}. Best is trial 34 with value: 0.6322147924661059.\n",
      "[I 2025-05-26 21:56:21,035] Trial 36 finished with value: 0.6307933568111044 and parameters: {'learning_rate': 0.09368352736410776, 'depth': 4, 'l2_leaf_reg': 7.177186627644231, 'bagging_temperature': 0.47870258824944945, 'iterations': 760}. Best is trial 34 with value: 0.6322147924661059.\n",
      "[I 2025-05-26 21:56:25,216] Trial 37 finished with value: 0.6306937204002614 and parameters: {'learning_rate': 0.2971210522102336, 'depth': 4, 'l2_leaf_reg': 6.765807711344143, 'bagging_temperature': 0.3463103288546615, 'iterations': 882}. Best is trial 34 with value: 0.6322147924661059.\n",
      "[I 2025-05-26 21:56:30,810] Trial 38 finished with value: 0.632051879745853 and parameters: {'learning_rate': 0.18845354018881122, 'depth': 6, 'l2_leaf_reg': 8.739110538230156, 'bagging_temperature': 0.6870688930086721, 'iterations': 610}. Best is trial 34 with value: 0.6322147924661059.\n",
      "[I 2025-05-26 21:56:33,613] Trial 39 finished with value: 0.6273369140387717 and parameters: {'learning_rate': 0.43005168855210085, 'depth': 6, 'l2_leaf_reg': 9.205332844697773, 'bagging_temperature': 0.7216668163894904, 'iterations': 582}. Best is trial 34 with value: 0.6322147924661059.\n",
      "[I 2025-05-26 21:56:37,416] Trial 40 finished with value: 0.6290822730160579 and parameters: {'learning_rate': 0.33671509758771334, 'depth': 4, 'l2_leaf_reg': 9.681378087867206, 'bagging_temperature': 0.7908423143723788, 'iterations': 612}. Best is trial 34 with value: 0.6322147924661059.\n",
      "[I 2025-05-26 21:56:42,487] Trial 41 finished with value: 0.6315226536400916 and parameters: {'learning_rate': 0.18900574149523808, 'depth': 6, 'l2_leaf_reg': 8.321105613710264, 'bagging_temperature': 0.6888240273900283, 'iterations': 530}. Best is trial 34 with value: 0.6322147924661059.\n",
      "[I 2025-05-26 21:56:47,616] Trial 42 finished with value: 0.6301320570031136 and parameters: {'learning_rate': 0.2401640698386715, 'depth': 5, 'l2_leaf_reg': 8.771145916932994, 'bagging_temperature': 0.6140147742544853, 'iterations': 760}. Best is trial 34 with value: 0.6322147924661059.\n",
      "[I 2025-05-26 21:56:58,098] Trial 43 finished with value: 0.6306335764102085 and parameters: {'learning_rate': 0.07599930795469725, 'depth': 6, 'l2_leaf_reg': 6.705738938225695, 'bagging_temperature': 0.5586559532058608, 'iterations': 652}. Best is trial 34 with value: 0.6322147924661059.\n",
      "[I 2025-05-26 21:57:06,423] Trial 44 finished with value: 0.6297766894433714 and parameters: {'learning_rate': 0.05085972148841822, 'depth': 8, 'l2_leaf_reg': 7.780949201053246, 'bagging_temperature': 0.4759762794997184, 'iterations': 700}. Best is trial 34 with value: 0.6322147924661059.\n",
      "[I 2025-05-26 21:57:14,224] Trial 45 finished with value: 0.6311777329088675 and parameters: {'learning_rate': 0.11604391675376388, 'depth': 6, 'l2_leaf_reg': 5.876087257154475, 'bagging_temperature': 0.517676528239177, 'iterations': 732}. Best is trial 34 with value: 0.6322147924661059.\n",
      "[I 2025-05-26 21:57:20,858] Trial 46 finished with value: 0.6315202796977397 and parameters: {'learning_rate': 0.15613952422219257, 'depth': 5, 'l2_leaf_reg': 6.740691872986944, 'bagging_temperature': 0.699083177356373, 'iterations': 660}. Best is trial 34 with value: 0.6322147924661059.\n",
      "[I 2025-05-26 21:57:23,735] Trial 47 finished with value: 0.6203957659816739 and parameters: {'learning_rate': 0.989499663078059, 'depth': 7, 'l2_leaf_reg': 8.422886631781328, 'bagging_temperature': 0.9221686577530912, 'iterations': 996}. Best is trial 34 with value: 0.6322147924661059.\n",
      "[I 2025-05-26 21:57:27,473] Trial 48 finished with value: 0.630004041976518 and parameters: {'learning_rate': 0.3320920440412849, 'depth': 4, 'l2_leaf_reg': 9.733260559226313, 'bagging_temperature': 0.298516732448779, 'iterations': 862}. Best is trial 34 with value: 0.6322147924661059.\n",
      "[I 2025-05-26 21:57:30,577] Trial 49 finished with value: 0.6281711460365049 and parameters: {'learning_rate': 0.6872257975491036, 'depth': 4, 'l2_leaf_reg': 7.760330611138565, 'bagging_temperature': 0.14139733589579728, 'iterations': 567}. Best is trial 34 with value: 0.6322147924661059.\n",
      "[I 2025-05-26 21:57:36,188] Trial 50 finished with value: 0.6301673845260836 and parameters: {'learning_rate': 0.20440696076007364, 'depth': 6, 'l2_leaf_reg': 8.831464826207672, 'bagging_temperature': 0.5831453608000305, 'iterations': 743}. Best is trial 34 with value: 0.6322147924661059.\n",
      "[I 2025-05-26 21:57:41,020] Trial 51 finished with value: 0.632083588303635 and parameters: {'learning_rate': 0.195988378814967, 'depth': 6, 'l2_leaf_reg': 8.486834358535468, 'bagging_temperature': 0.6691388331603072, 'iterations': 522}. Best is trial 34 with value: 0.6322147924661059.\n",
      "[I 2025-05-26 21:57:48,102] Trial 52 finished with value: 0.6308697873796443 and parameters: {'learning_rate': 0.10760949833744449, 'depth': 7, 'l2_leaf_reg': 7.489231522751321, 'bagging_temperature': 0.8053627684679319, 'iterations': 543}. Best is trial 34 with value: 0.6322147924661059.\n",
      "[I 2025-05-26 21:57:52,864] Trial 53 finished with value: 0.6300411406926891 and parameters: {'learning_rate': 0.25947889219557746, 'depth': 6, 'l2_leaf_reg': 9.446058614854316, 'bagging_temperature': 0.3903171709277979, 'iterations': 508}. Best is trial 34 with value: 0.6322147924661059.\n",
      "[I 2025-05-26 21:58:14,225] Trial 54 finished with value: 0.6305652459009525 and parameters: {'learning_rate': 0.022417104025962475, 'depth': 5, 'l2_leaf_reg': 8.628765319131645, 'bagging_temperature': 0.6294283127885588, 'iterations': 603}. Best is trial 34 with value: 0.6322147924661059.\n",
      "[I 2025-05-26 21:58:20,476] Trial 55 finished with value: 0.6301894985031219 and parameters: {'learning_rate': 0.15142915965012402, 'depth': 5, 'l2_leaf_reg': 6.307606090405605, 'bagging_temperature': 0.6619377939420718, 'iterations': 629}. Best is trial 34 with value: 0.6322147924661059.\n",
      "[I 2025-05-26 21:58:25,665] Trial 56 finished with value: 0.6299828691774568 and parameters: {'learning_rate': 0.2005260982773429, 'depth': 6, 'l2_leaf_reg': 4.3295685444326315, 'bagging_temperature': 0.4470934576274469, 'iterations': 968}. Best is trial 34 with value: 0.6322147924661059.\n",
      "[I 2025-05-26 21:58:28,991] Trial 57 finished with value: 0.6240487296799798 and parameters: {'learning_rate': 0.3745228295984758, 'depth': 7, 'l2_leaf_reg': 2.7641988160002806, 'bagging_temperature': 0.5500215770356927, 'iterations': 932}. Best is trial 34 with value: 0.6322147924661059.\n",
      "[I 2025-05-26 21:58:35,606] Trial 58 finished with value: 0.6313614207125535 and parameters: {'learning_rate': 0.1333983015748091, 'depth': 5, 'l2_leaf_reg': 3.956374668073484, 'bagging_temperature': 0.3796209754043279, 'iterations': 904}. Best is trial 34 with value: 0.6322147924661059.\n",
      "[I 2025-05-26 21:58:52,722] Trial 59 finished with value: 0.6315037880857304 and parameters: {'learning_rate': 0.034986363271886076, 'depth': 6, 'l2_leaf_reg': 5.246523538239164, 'bagging_temperature': 0.6041413017079572, 'iterations': 523}. Best is trial 34 with value: 0.6322147924661059.\n",
      "[I 2025-05-26 21:58:57,541] Trial 60 finished with value: 0.6296479135694871 and parameters: {'learning_rate': 0.232072236207044, 'depth': 5, 'l2_leaf_reg': 5.9558969843404155, 'bagging_temperature': 0.7679091073440475, 'iterations': 714}. Best is trial 34 with value: 0.6322147924661059.\n",
      "[I 2025-05-26 21:59:00,115] Trial 61 finished with value: 0.6216966690985124 and parameters: {'learning_rate': 0.915647468870006, 'depth': 6, 'l2_leaf_reg': 8.176013183779997, 'bagging_temperature': 0.6960386908432494, 'iterations': 528}. Best is trial 34 with value: 0.6322147924661059.\n",
      "[I 2025-05-26 21:59:05,429] Trial 62 finished with value: 0.6292478981074892 and parameters: {'learning_rate': 0.1793446198872997, 'depth': 7, 'l2_leaf_reg': 9.189998848474445, 'bagging_temperature': 0.7180243034371647, 'iterations': 556}. Best is trial 34 with value: 0.6322147924661059.\n",
      "[I 2025-05-26 21:59:09,621] Trial 63 finished with value: 0.6292498965667634 and parameters: {'learning_rate': 0.19008316264730013, 'depth': 7, 'l2_leaf_reg': 6.994150314300376, 'bagging_temperature': 0.673824625165985, 'iterations': 585}. Best is trial 34 with value: 0.6322147924661059.\n",
      "[I 2025-05-26 21:59:16,603] Trial 64 finished with value: 0.6311206619513701 and parameters: {'learning_rate': 0.09235677004213072, 'depth': 6, 'l2_leaf_reg': 7.9986440571213215, 'bagging_temperature': 0.5301292324596554, 'iterations': 538}. Best is trial 34 with value: 0.6322147924661059.\n",
      "[I 2025-05-26 21:59:20,468] Trial 65 finished with value: 0.6299241381895113 and parameters: {'learning_rate': 0.2805572616490304, 'depth': 6, 'l2_leaf_reg': 7.584601696291754, 'bagging_temperature': 0.49672858724551217, 'iterations': 575}. Best is trial 34 with value: 0.6322147924661059.\n",
      "[I 2025-05-26 21:59:27,065] Trial 66 finished with value: 0.6301320001865953 and parameters: {'learning_rate': 0.13953333678394456, 'depth': 5, 'l2_leaf_reg': 8.458838349817334, 'bagging_temperature': 0.5948496478108045, 'iterations': 808}. Best is trial 34 with value: 0.6322147924661059.\n",
      "[I 2025-05-26 21:59:39,034] Trial 67 finished with value: 0.6321956156560357 and parameters: {'learning_rate': 0.06492582253111018, 'depth': 6, 'l2_leaf_reg': 6.4163455420643976, 'bagging_temperature': 0.6885363072520618, 'iterations': 775}. Best is trial 34 with value: 0.6322147924661059.\n",
      "[I 2025-05-26 22:00:04,283] Trial 68 finished with value: 0.6244689446493774 and parameters: {'learning_rate': 0.005935481408256907, 'depth': 4, 'l2_leaf_reg': 6.3753185625077755, 'bagging_temperature': 0.6436564185121838, 'iterations': 770}. Best is trial 34 with value: 0.6322147924661059.\n",
      "[I 2025-05-26 22:00:17,866] Trial 69 finished with value: 0.6312652698715946 and parameters: {'learning_rate': 0.053346067239535444, 'depth': 5, 'l2_leaf_reg': 4.8128001745664255, 'bagging_temperature': 0.5691213499640452, 'iterations': 787}. Best is trial 34 with value: 0.6322147924661059.\n",
      "[I 2025-05-26 22:00:27,556] Trial 70 finished with value: 0.6295732616049987 and parameters: {'learning_rate': 0.07147861312379852, 'depth': 7, 'l2_leaf_reg': 5.356917770929377, 'bagging_temperature': 0.8451490445659281, 'iterations': 853}. Best is trial 34 with value: 0.6322147924661059.\n",
      "[I 2025-05-26 22:00:34,158] Trial 71 finished with value: 0.6311709766837559 and parameters: {'learning_rate': 0.11101502623382291, 'depth': 6, 'l2_leaf_reg': 7.289530785277221, 'bagging_temperature': 0.6931917568614189, 'iterations': 726}. Best is trial 34 with value: 0.6322147924661059.\n",
      "[I 2025-05-26 22:00:38,845] Trial 72 finished with value: 0.6303941318397961 and parameters: {'learning_rate': 0.18026264476501674, 'depth': 6, 'l2_leaf_reg': 6.949407876998712, 'bagging_temperature': 0.7859951812040489, 'iterations': 750}. Best is trial 34 with value: 0.6322147924661059.\n",
      "[I 2025-05-26 22:00:44,002] Trial 73 finished with value: 0.6300670490250369 and parameters: {'learning_rate': 0.21955796901707167, 'depth': 6, 'l2_leaf_reg': 8.945484804945421, 'bagging_temperature': 0.45107938000991443, 'iterations': 828}. Best is trial 34 with value: 0.6322147924661059.\n",
      "[I 2025-05-26 22:00:47,692] Trial 74 finished with value: 0.6289445794190829 and parameters: {'learning_rate': 0.3197331039165334, 'depth': 7, 'l2_leaf_reg': 6.4602091313868195, 'bagging_temperature': 0.7384493333782919, 'iterations': 979}. Best is trial 34 with value: 0.6322147924661059.\n",
      "[I 2025-05-26 22:00:56,675] Trial 75 finished with value: 0.6278089827271164 and parameters: {'learning_rate': 0.1426254545486845, 'depth': 10, 'l2_leaf_reg': 8.082176792687694, 'bagging_temperature': 0.6216155000559355, 'iterations': 510}. Best is trial 34 with value: 0.6322147924661059.\n",
      "[I 2025-05-26 22:00:59,758] Trial 76 finished with value: 0.6263715445762196 and parameters: {'learning_rate': 0.5717455332768714, 'depth': 6, 'l2_leaf_reg': 3.4645963756566402, 'bagging_temperature': 0.6422753396064376, 'iterations': 914}. Best is trial 34 with value: 0.6322147924661059.\n",
      "[I 2025-05-26 22:01:04,324] Trial 77 finished with value: 0.6311035675902097 and parameters: {'learning_rate': 0.26128337356900677, 'depth': 5, 'l2_leaf_reg': 5.572775821876448, 'bagging_temperature': 0.6885964510522355, 'iterations': 666}. Best is trial 34 with value: 0.6322147924661059.\n",
      "[I 2025-05-26 22:01:12,346] Trial 78 finished with value: 0.6320896676710939 and parameters: {'learning_rate': 0.09568070921217348, 'depth': 6, 'l2_leaf_reg': 6.145442226297416, 'bagging_temperature': 0.5322871069228557, 'iterations': 637}. Best is trial 34 with value: 0.6322147924661059.\n",
      "[I 2025-05-26 22:01:28,834] Trial 79 finished with value: 0.6319019829488589 and parameters: {'learning_rate': 0.03979958528398505, 'depth': 6, 'l2_leaf_reg': 6.166757068895391, 'bagging_temperature': 0.5358990173612668, 'iterations': 701}. Best is trial 34 with value: 0.6322147924661059.\n",
      "[I 2025-05-26 22:01:46,961] Trial 80 finished with value: 0.6312392553170603 and parameters: {'learning_rate': 0.04035107314869098, 'depth': 4, 'l2_leaf_reg': 5.905382395481951, 'bagging_temperature': 0.4908874857680832, 'iterations': 642}. Best is trial 34 with value: 0.6322147924661059.\n",
      "[I 2025-05-26 22:01:55,255] Trial 81 finished with value: 0.6312587878479408 and parameters: {'learning_rate': 0.08525198842447124, 'depth': 6, 'l2_leaf_reg': 6.071460160026355, 'bagging_temperature': 0.5444148468906229, 'iterations': 698}. Best is trial 34 with value: 0.6322147924661059.\n",
      "[I 2025-05-26 22:02:03,148] Trial 82 finished with value: 0.6305713129169944 and parameters: {'learning_rate': 0.11157584194060069, 'depth': 6, 'l2_leaf_reg': 6.5767234401121435, 'bagging_temperature': 0.5703508636480893, 'iterations': 621}. Best is trial 34 with value: 0.6322147924661059.\n",
      "[I 2025-05-26 22:02:16,033] Trial 83 finished with value: 0.630711140838831 and parameters: {'learning_rate': 0.06532772016540492, 'depth': 5, 'l2_leaf_reg': 5.658920421653919, 'bagging_temperature': 0.5265437542852824, 'iterations': 674}. Best is trial 34 with value: 0.6322147924661059.\n",
      "[I 2025-05-26 22:02:41,925] Trial 84 finished with value: 0.6292908958604305 and parameters: {'learning_rate': 0.01213099748123083, 'depth': 6, 'l2_leaf_reg': 5.2088062295801345, 'bagging_temperature': 0.45998089805927456, 'iterations': 699}. Best is trial 34 with value: 0.6322147924661059.\n",
      "[I 2025-05-26 22:02:47,487] Trial 85 finished with value: 0.6313157921077864 and parameters: {'learning_rate': 0.15709624596555444, 'depth': 5, 'l2_leaf_reg': 7.142772214576252, 'bagging_temperature': 0.5042273750192632, 'iterations': 600}. Best is trial 34 with value: 0.6322147924661059.\n",
      "[I 2025-05-26 22:02:55,110] Trial 86 finished with value: 0.63028919667105 and parameters: {'learning_rate': 0.09123191427193508, 'depth': 7, 'l2_leaf_reg': 4.677996664284456, 'bagging_temperature': 0.5885770099889063, 'iterations': 796}. Best is trial 34 with value: 0.6322147924661059.\n",
      "[I 2025-05-26 22:03:11,095] Trial 87 finished with value: 0.6315998252936527 and parameters: {'learning_rate': 0.040404635259193855, 'depth': 6, 'l2_leaf_reg': 6.136680000606401, 'bagging_temperature': 0.41057772379234714, 'iterations': 642}. Best is trial 34 with value: 0.6322147924661059.\n",
      "[I 2025-05-26 22:03:19,475] Trial 88 finished with value: 0.6296822134545607 and parameters: {'learning_rate': 0.06670871549721943, 'depth': 8, 'l2_leaf_reg': 6.942793617661454, 'bagging_temperature': 0.6518309647003369, 'iterations': 749}. Best is trial 34 with value: 0.6322147924661059.\n",
      "[I 2025-05-26 22:03:22,539] Trial 89 finished with value: 0.6242311477579959 and parameters: {'learning_rate': 0.6098472934746926, 'depth': 6, 'l2_leaf_reg': 7.707905952833103, 'bagging_temperature': 0.5432739639548507, 'iterations': 682}. Best is trial 34 with value: 0.6322147924661059.\n",
      "[I 2025-05-26 22:03:30,852] Trial 90 finished with value: 0.6317380401204261 and parameters: {'learning_rate': 0.12413544976690391, 'depth': 4, 'l2_leaf_reg': 4.147479888166953, 'bagging_temperature': 0.4755052391218266, 'iterations': 771}. Best is trial 34 with value: 0.6322147924661059.\n",
      "[I 2025-05-26 22:03:38,077] Trial 91 finished with value: 0.6322350586711578 and parameters: {'learning_rate': 0.13580192011551842, 'depth': 4, 'l2_leaf_reg': 4.073849102888802, 'bagging_temperature': 0.43243758099512136, 'iterations': 776}. Best is trial 91 with value: 0.6322350586711578.\n",
      "[I 2025-05-26 22:03:44,558] Trial 92 finished with value: 0.6298385700426578 and parameters: {'learning_rate': 0.16171701779302772, 'depth': 4, 'l2_leaf_reg': 3.811848717605342, 'bagging_temperature': 0.39999500194385895, 'iterations': 758}. Best is trial 91 with value: 0.6322350586711578.\n",
      "[I 2025-05-26 22:03:54,299] Trial 93 finished with value: 0.6313704619498146 and parameters: {'learning_rate': 0.09502415353463331, 'depth': 4, 'l2_leaf_reg': 4.410774799081698, 'bagging_temperature': 0.439788403523601, 'iterations': 733}. Best is trial 91 with value: 0.6322350586711578.\n",
      "[I 2025-05-26 22:04:02,096] Trial 94 finished with value: 0.6321207043117898 and parameters: {'learning_rate': 0.13113085723115062, 'depth': 4, 'l2_leaf_reg': 3.5144917708413574, 'bagging_temperature': 0.4271532174064287, 'iterations': 874}. Best is trial 91 with value: 0.6322350586711578.\n",
      "[I 2025-05-26 22:04:07,994] Trial 95 finished with value: 0.6320280093973139 and parameters: {'learning_rate': 0.21445389943990922, 'depth': 4, 'l2_leaf_reg': 3.385592474978466, 'bagging_temperature': 0.3606433507149579, 'iterations': 879}. Best is trial 91 with value: 0.6322350586711578.\n",
      "[I 2025-05-26 22:04:14,398] Trial 96 finished with value: 0.6308886776368395 and parameters: {'learning_rate': 0.128570663086931, 'depth': 4, 'l2_leaf_reg': 3.1490757373884093, 'bagging_temperature': 0.3577129844496465, 'iterations': 891}. Best is trial 91 with value: 0.6322350586711578.\n",
      "[I 2025-05-26 22:04:20,057] Trial 97 finished with value: 0.6307120721356745 and parameters: {'learning_rate': 0.23201453744873163, 'depth': 4, 'l2_leaf_reg': 3.4372636245996278, 'bagging_temperature': 0.3101385198141644, 'iterations': 715}. Best is trial 91 with value: 0.6322350586711578.\n",
      "[I 2025-05-26 22:04:24,605] Trial 98 finished with value: 0.6302155995175753 and parameters: {'learning_rate': 0.21772534311304795, 'depth': 4, 'l2_leaf_reg': 2.800469028184705, 'bagging_temperature': 0.32448613855310066, 'iterations': 847}. Best is trial 91 with value: 0.6322350586711578.\n",
      "[I 2025-05-26 22:04:30,228] Trial 99 finished with value: 0.6310457135528729 and parameters: {'learning_rate': 0.17593671947018497, 'depth': 4, 'l2_leaf_reg': 2.0433584365205992, 'bagging_temperature': 0.34915055580867516, 'iterations': 942}. Best is trial 91 with value: 0.6322350586711578.\n",
      "[I 2025-05-26 22:04:33,969] Trial 100 finished with value: 0.6295298760175628 and parameters: {'learning_rate': 0.26106868506235875, 'depth': 4, 'l2_leaf_reg': 2.745458493014266, 'bagging_temperature': 0.3720051532587708, 'iterations': 872}. Best is trial 91 with value: 0.6322350586711578.\n",
      "[I 2025-05-26 22:04:39,153] Trial 101 finished with value: 0.6300657447153992 and parameters: {'learning_rate': 0.20108165400168518, 'depth': 4, 'l2_leaf_reg': 4.154004180904326, 'bagging_temperature': 0.42861474411645445, 'iterations': 920}. Best is trial 91 with value: 0.6322350586711578.\n",
      "[I 2025-05-26 22:04:44,933] Trial 102 finished with value: 0.6312487090916499 and parameters: {'learning_rate': 0.14405761032364686, 'depth': 5, 'l2_leaf_reg': 3.7416126757483124, 'bagging_temperature': 0.42790514404481134, 'iterations': 870}. Best is trial 91 with value: 0.6322350586711578.\n",
      "[I 2025-05-26 22:04:51,492] Trial 103 finished with value: 0.6303701108039693 and parameters: {'learning_rate': 0.11731967359104498, 'depth': 4, 'l2_leaf_reg': 3.5411430307342653, 'bagging_temperature': 0.25651243633792314, 'iterations': 902}. Best is trial 91 with value: 0.6322350586711578.\n",
      "[I 2025-05-26 22:04:56,801] Trial 104 finished with value: 0.6300421732711521 and parameters: {'learning_rate': 0.16976386995334186, 'depth': 5, 'l2_leaf_reg': 4.586633176553702, 'bagging_temperature': 0.48708616617838185, 'iterations': 933}. Best is trial 91 with value: 0.6322350586711578.\n",
      "[I 2025-05-26 22:05:08,349] Trial 105 finished with value: 0.6313208339562153 and parameters: {'learning_rate': 0.08987491790465384, 'depth': 4, 'l2_leaf_reg': 2.896357602335854, 'bagging_temperature': 0.399868751861552, 'iterations': 950}. Best is trial 91 with value: 0.6322350586711578.\n",
      "[I 2025-05-26 22:05:28,609] Trial 106 finished with value: 0.6288831459410926 and parameters: {'learning_rate': 0.02251385303363887, 'depth': 9, 'l2_leaf_reg': 2.4996220826954887, 'bagging_temperature': 0.4596591397204146, 'iterations': 895}. Best is trial 91 with value: 0.6322350586711578.\n",
      "[I 2025-05-26 22:05:32,056] Trial 107 finished with value: 0.6303158732615368 and parameters: {'learning_rate': 0.4231978142339583, 'depth': 4, 'l2_leaf_reg': 3.9776264106442554, 'bagging_temperature': 0.5064444605543685, 'iterations': 838}. Best is trial 91 with value: 0.6322350586711578.\n",
      "[I 2025-05-26 22:05:47,074] Trial 108 finished with value: 0.6314586362456602 and parameters: {'learning_rate': 0.0500935142207662, 'depth': 5, 'l2_leaf_reg': 4.980091658035327, 'bagging_temperature': 0.4697096387890857, 'iterations': 591}. Best is trial 91 with value: 0.6322350586711578.\n",
      "[I 2025-05-26 22:05:54,462] Trial 109 finished with value: 0.6319230001200656 and parameters: {'learning_rate': 0.10357625377349651, 'depth': 4, 'l2_leaf_reg': 6.51081040527644, 'bagging_temperature': 0.7171636632343874, 'iterations': 880}. Best is trial 91 with value: 0.6322350586711578.\n",
      "[I 2025-05-26 22:06:03,094] Trial 110 finished with value: 0.631187680740138 and parameters: {'learning_rate': 0.10602444228938732, 'depth': 4, 'l2_leaf_reg': 3.33374449537666, 'bagging_temperature': 0.8180240341312276, 'iterations': 822}. Best is trial 91 with value: 0.6322350586711578.\n",
      "[I 2025-05-26 22:06:10,219] Trial 111 finished with value: 0.6314280244937097 and parameters: {'learning_rate': 0.13688412081885515, 'depth': 4, 'l2_leaf_reg': 6.140731926818814, 'bagging_temperature': 0.7136418438226747, 'iterations': 878}. Best is trial 91 with value: 0.6322350586711578.\n",
      "[I 2025-05-26 22:06:15,381] Trial 112 finished with value: 0.6295833131881722 and parameters: {'learning_rate': 0.1923044061785288, 'depth': 4, 'l2_leaf_reg': 5.429807941625318, 'bagging_temperature': 0.7612471334233988, 'iterations': 555}. Best is trial 91 with value: 0.6322350586711578.\n",
      "[I 2025-05-26 22:06:18,399] Trial 113 finished with value: 0.6270685449199743 and parameters: {'learning_rate': 0.7572777744384102, 'depth': 4, 'l2_leaf_reg': 5.821705412182125, 'bagging_temperature': 0.6737171283855964, 'iterations': 798}. Best is trial 91 with value: 0.6322350586711578.\n",
      "[I 2025-05-26 22:06:21,566] Trial 114 finished with value: 0.6252174578129694 and parameters: {'learning_rate': 0.5117994298173123, 'depth': 5, 'l2_leaf_reg': 6.565513116644519, 'bagging_temperature': 0.5269501891808759, 'iterations': 913}. Best is trial 91 with value: 0.6322350586711578.\n",
      "[I 2025-05-26 22:06:32,285] Trial 115 finished with value: 0.6313949449286381 and parameters: {'learning_rate': 0.06727966158829794, 'depth': 6, 'l2_leaf_reg': 5.112842490890373, 'bagging_temperature': 0.3818843762599631, 'iterations': 861}. Best is trial 91 with value: 0.6322350586711578.\n",
      "[I 2025-05-26 22:06:37,206] Trial 116 finished with value: 0.6307557467462688 and parameters: {'learning_rate': 0.24585707356350722, 'depth': 4, 'l2_leaf_reg': 8.589634622653586, 'bagging_temperature': 0.7388082469102549, 'iterations': 890}. Best is trial 91 with value: 0.6322350586711578.\n",
      "[I 2025-05-26 22:06:43,250] Trial 117 finished with value: 0.6317772039935234 and parameters: {'learning_rate': 0.15089362662973776, 'depth': 5, 'l2_leaf_reg': 6.3524563795200155, 'bagging_temperature': 0.6183123288631767, 'iterations': 928}. Best is trial 91 with value: 0.6322350586711578.\n",
      "[I 2025-05-26 22:06:49,566] Trial 118 finished with value: 0.6319165996157641 and parameters: {'learning_rate': 0.16099076015456845, 'depth': 4, 'l2_leaf_reg': 6.645345967104836, 'bagging_temperature': 0.6662658698436636, 'iterations': 742}. Best is trial 91 with value: 0.6322350586711578.\n",
      "[I 2025-05-26 22:07:14,483] Trial 119 finished with value: 0.6317910993376745 and parameters: {'learning_rate': 0.032019373562903256, 'depth': 4, 'l2_leaf_reg': 7.450216302630074, 'bagging_temperature': 0.6677280422187647, 'iterations': 738}. Best is trial 91 with value: 0.6322350586711578.\n",
      "[I 2025-05-26 22:07:21,925] Trial 120 finished with value: 0.6314044654008796 and parameters: {'learning_rate': 0.10359636458871271, 'depth': 4, 'l2_leaf_reg': 6.795238276587694, 'bagging_temperature': 0.7762928002253354, 'iterations': 765}. Best is trial 91 with value: 0.6322350586711578.\n",
      "[I 2025-05-26 22:07:42,743] Trial 121 finished with value: 0.6323280080248243 and parameters: {'learning_rate': 0.03967422607624546, 'depth': 4, 'l2_leaf_reg': 7.296558111866368, 'bagging_temperature': 0.7120974497353578, 'iterations': 741}. Best is trial 121 with value: 0.6323280080248243.\n",
      "[I 2025-05-26 22:08:28,142] Trial 122 finished with value: 0.6317873889720007 and parameters: {'learning_rate': 0.05415742770697881, 'depth': 4, 'l2_leaf_reg': 7.271806486560644, 'bagging_temperature': 0.7097174991251514, 'iterations': 778}. Best is trial 121 with value: 0.6323280080248243.\n",
      "[I 2025-05-26 22:08:45,047] Trial 123 finished with value: 0.6317931570837505 and parameters: {'learning_rate': 0.07346497620763809, 'depth': 4, 'l2_leaf_reg': 6.634099452223372, 'bagging_temperature': 0.7424545645237233, 'iterations': 703}. Best is trial 121 with value: 0.6323280080248243.\n",
      "[I 2025-05-26 22:08:47,429] Trial 124 finished with value: 0.6081270416954097 and parameters: {'learning_rate': 0.003142535883236798, 'depth': 4, 'l2_leaf_reg': 7.097083353122564, 'bagging_temperature': 0.7292545360556927, 'iterations': 788}. Best is trial 121 with value: 0.6323280080248243.\n",
      "[I 2025-05-26 22:08:54,775] Trial 125 finished with value: 0.6311438060365882 and parameters: {'learning_rate': 0.12387991744342575, 'depth': 4, 'l2_leaf_reg': 7.881282025587608, 'bagging_temperature': 0.6464311923880328, 'iterations': 725}. Best is trial 121 with value: 0.6323280080248243.\n",
      "[I 2025-05-26 22:09:02,877] Trial 126 finished with value: 0.6309276315358474 and parameters: {'learning_rate': 0.16156205509873406, 'depth': 4, 'l2_leaf_reg': 6.280931751622456, 'bagging_temperature': 0.680101486815881, 'iterations': 816}. Best is trial 121 with value: 0.6323280080248243.\n",
      "[I 2025-05-26 22:09:15,543] Trial 127 finished with value: 0.6306588177660372 and parameters: {'learning_rate': 0.08786247593102717, 'depth': 4, 'l2_leaf_reg': 0.15162951201721508, 'bagging_temperature': 0.4169032474067094, 'iterations': 751}. Best is trial 121 with value: 0.6323280080248243.\n",
      "[I 2025-05-26 22:09:41,395] Trial 128 finished with value: 0.6317231196086621 and parameters: {'learning_rate': 0.026473478820387558, 'depth': 6, 'l2_leaf_reg': 9.939965310956474, 'bagging_temperature': 0.33225878989866636, 'iterations': 706}. Best is trial 121 with value: 0.6323280080248243.\n",
      "[I 2025-05-26 22:09:55,024] Trial 129 finished with value: 0.631068161018171 and parameters: {'learning_rate': 0.053863676233840835, 'depth': 4, 'l2_leaf_reg': 3.037150359484257, 'bagging_temperature': 0.44645208612176035, 'iterations': 616}. Best is trial 121 with value: 0.6323280080248243.\n",
      "[I 2025-05-26 22:10:00,402] Trial 130 finished with value: 0.6304576922317976 and parameters: {'learning_rate': 0.2072640595798752, 'depth': 6, 'l2_leaf_reg': 9.512425519324125, 'bagging_temperature': 0.04372846257809848, 'iterations': 739}. Best is trial 121 with value: 0.6323280080248243.\n",
      "[I 2025-05-26 22:10:14,839] Trial 131 finished with value: 0.6314325327609233 and parameters: {'learning_rate': 0.07660896746098338, 'depth': 4, 'l2_leaf_reg': 6.821650121855646, 'bagging_temperature': 0.7428822022435101, 'iterations': 720}. Best is trial 121 with value: 0.6323280080248243.\n",
      "[I 2025-05-26 22:10:23,213] Trial 132 finished with value: 0.6313671863540201 and parameters: {'learning_rate': 0.13076019467347474, 'depth': 4, 'l2_leaf_reg': 6.600085737901499, 'bagging_temperature': 0.8812958392049208, 'iterations': 693}. Best is trial 121 with value: 0.6323280080248243.\n",
      "[I 2025-05-26 22:10:35,786] Trial 133 finished with value: 0.6320166831479035 and parameters: {'learning_rate': 0.07458197569543114, 'depth': 4, 'l2_leaf_reg': 7.350735511724274, 'bagging_temperature': 0.8000922284384673, 'iterations': 650}. Best is trial 121 with value: 0.6323280080248243.\n",
      "[I 2025-05-26 22:10:43,609] Trial 134 finished with value: 0.630246848602644 and parameters: {'learning_rate': 0.1032449970231462, 'depth': 4, 'l2_leaf_reg': 7.661583398040065, 'bagging_temperature': 0.7915798778025874, 'iterations': 639}. Best is trial 121 with value: 0.6323280080248243.\n",
      "[I 2025-05-26 22:10:48,967] Trial 135 finished with value: 0.6301562435479285 and parameters: {'learning_rate': 0.18105074707165109, 'depth': 4, 'l2_leaf_reg': 7.323686062533317, 'bagging_temperature': 0.6953048377532164, 'iterations': 629}. Best is trial 121 with value: 0.6323280080248243.\n",
      "[I 2025-05-26 22:11:08,206] Trial 136 finished with value: 0.6322899384872753 and parameters: {'learning_rate': 0.04085540833054724, 'depth': 4, 'l2_leaf_reg': 9.068999164414958, 'bagging_temperature': 0.9157530427683639, 'iterations': 654}. Best is trial 121 with value: 0.6323280080248243.\n",
      "[I 2025-05-26 22:11:31,106] Trial 137 finished with value: 0.6319492320595397 and parameters: {'learning_rate': 0.03635630256130137, 'depth': 4, 'l2_leaf_reg': 9.075495798091367, 'bagging_temperature': 0.9639249420809167, 'iterations': 652}. Best is trial 121 with value: 0.6323280080248243.\n",
      "[I 2025-05-26 22:11:54,103] Trial 138 finished with value: 0.6304770666645402 and parameters: {'learning_rate': 0.019033797273737923, 'depth': 8, 'l2_leaf_reg': 9.146947217200482, 'bagging_temperature': 0.9822771577105238, 'iterations': 648}. Best is trial 121 with value: 0.6323280080248243.\n",
      "[I 2025-05-26 22:12:12,868] Trial 139 finished with value: 0.6315766540353172 and parameters: {'learning_rate': 0.044063140096560184, 'depth': 4, 'l2_leaf_reg': 8.954794039787418, 'bagging_temperature': 0.9967928614635997, 'iterations': 678}. Best is trial 121 with value: 0.6323280080248243.\n",
      "[I 2025-05-26 22:12:26,703] Trial 140 finished with value: 0.6329322541673014 and parameters: {'learning_rate': 0.08176882186572666, 'depth': 4, 'l2_leaf_reg': 8.716449476528693, 'bagging_temperature': 0.9581287065166211, 'iterations': 656}. Best is trial 140 with value: 0.6329322541673014.\n",
      "[I 2025-05-26 22:12:42,790] Trial 141 finished with value: 0.6315895192712885 and parameters: {'learning_rate': 0.0673149700545006, 'depth': 4, 'l2_leaf_reg': 9.362765256971208, 'bagging_temperature': 0.9303873633485443, 'iterations': 636}. Best is trial 140 with value: 0.6329322541673014.\n",
      "[I 2025-05-26 22:12:54,590] Trial 142 finished with value: 0.6321351604102737 and parameters: {'learning_rate': 0.08231709205245528, 'depth': 4, 'l2_leaf_reg': 8.746109756082243, 'bagging_temperature': 0.9405033346354482, 'iterations': 665}. Best is trial 140 with value: 0.6329322541673014.\n",
      "[I 2025-05-26 22:13:07,641] Trial 143 finished with value: 0.6321272900873465 and parameters: {'learning_rate': 0.08813771545669341, 'depth': 4, 'l2_leaf_reg': 8.737094058213547, 'bagging_temperature': 0.9344502290774022, 'iterations': 652}. Best is trial 140 with value: 0.6329322541673014.\n",
      "[I 2025-05-26 22:13:17,475] Trial 144 finished with value: 0.6312412043706666 and parameters: {'learning_rate': 0.08203867390352229, 'depth': 4, 'l2_leaf_reg': 8.762536705740024, 'bagging_temperature': 0.9414675057826796, 'iterations': 663}. Best is trial 140 with value: 0.6329322541673014.\n",
      "[I 2025-05-26 22:13:39,647] Trial 145 finished with value: 0.6314312037484515 and parameters: {'learning_rate': 0.03451196115137388, 'depth': 4, 'l2_leaf_reg': 9.122311293129329, 'bagging_temperature': 0.9496992443652612, 'iterations': 654}. Best is trial 140 with value: 0.6329322541673014.\n",
      "[I 2025-05-26 22:13:56,567] Trial 146 finished with value: 0.6325415245006216 and parameters: {'learning_rate': 0.055681609578152394, 'depth': 4, 'l2_leaf_reg': 8.329024381994865, 'bagging_temperature': 0.9600038973985124, 'iterations': 625}. Best is trial 140 with value: 0.6329322541673014.\n",
      "[I 2025-05-26 22:13:58,740] Trial 147 finished with value: 0.6067892523067728 and parameters: {'learning_rate': 0.0020664707857762504, 'depth': 4, 'l2_leaf_reg': 8.293747617871922, 'bagging_temperature': 0.9128061557284307, 'iterations': 666}. Best is trial 140 with value: 0.6329322541673014.\n",
      "[I 2025-05-26 22:14:12,333] Trial 148 finished with value: 0.6321565604754082 and parameters: {'learning_rate': 0.05812617341830946, 'depth': 4, 'l2_leaf_reg': 8.45420996935991, 'bagging_temperature': 0.9013607507349606, 'iterations': 627}. Best is trial 140 with value: 0.6329322541673014.\n",
      "[I 2025-05-26 22:14:19,984] Trial 149 finished with value: 0.6310642135052904 and parameters: {'learning_rate': 0.11926187144568641, 'depth': 4, 'l2_leaf_reg': 8.57275135346483, 'bagging_temperature': 0.9043558471631324, 'iterations': 625}. Best is trial 140 with value: 0.6329322541673014.\n",
      "[I 2025-05-26 22:14:37,440] Trial 150 finished with value: 0.6321378011432334 and parameters: {'learning_rate': 0.05944465488931269, 'depth': 4, 'l2_leaf_reg': 8.775941855207297, 'bagging_temperature': 0.8625153573633628, 'iterations': 613}. Best is trial 140 with value: 0.6329322541673014.\n",
      "[I 2025-05-26 22:14:55,383] Trial 151 finished with value: 0.6319762520194196 and parameters: {'learning_rate': 0.055369536337647705, 'depth': 4, 'l2_leaf_reg': 8.779526287874942, 'bagging_temperature': 0.8526214153558631, 'iterations': 603}. Best is trial 140 with value: 0.6329322541673014.\n",
      "[I 2025-05-26 22:15:04,832] Trial 152 finished with value: 0.6313721540939469 and parameters: {'learning_rate': 0.09493269656194059, 'depth': 4, 'l2_leaf_reg': 8.373208873736411, 'bagging_temperature': 0.8915872152275979, 'iterations': 609}. Best is trial 140 with value: 0.6329322541673014.\n",
      "[I 2025-05-26 22:15:25,588] Trial 153 finished with value: 0.6289297527780882 and parameters: {'learning_rate': 0.020167346246351654, 'depth': 4, 'l2_leaf_reg': 8.084842869036947, 'bagging_temperature': 0.8717919645390089, 'iterations': 593}. Best is trial 140 with value: 0.6329322541673014.\n",
      "[I 2025-05-26 22:15:39,083] Trial 154 finished with value: 0.6321307237812791 and parameters: {'learning_rate': 0.06082937748564873, 'depth': 4, 'l2_leaf_reg': 8.52095102963312, 'bagging_temperature': 0.9654721252786687, 'iterations': 635}. Best is trial 140 with value: 0.6329322541673014.\n",
      "[I 2025-05-26 22:15:53,055] Trial 155 finished with value: 0.6321970163067261 and parameters: {'learning_rate': 0.0601819418255329, 'depth': 4, 'l2_leaf_reg': 8.565619825224367, 'bagging_temperature': 0.9652658081413757, 'iterations': 619}. Best is trial 140 with value: 0.6329322541673014.\n",
      "[I 2025-05-26 22:16:07,191] Trial 156 finished with value: 0.6317125418551233 and parameters: {'learning_rate': 0.060974184631896945, 'depth': 4, 'l2_leaf_reg': 8.5403103110625, 'bagging_temperature': 0.976014414753169, 'iterations': 632}. Best is trial 140 with value: 0.6329322541673014.\n",
      "[I 2025-05-26 22:16:23,630] Trial 157 finished with value: 0.631233534140695 and parameters: {'learning_rate': 0.050264584705151126, 'depth': 4, 'l2_leaf_reg': 8.195848717380596, 'bagging_temperature': 0.9538334968520555, 'iterations': 617}. Best is trial 140 with value: 0.6329322541673014.\n",
      "[I 2025-05-26 22:16:32,545] Trial 158 finished with value: 0.6314244475233399 and parameters: {'learning_rate': 0.09076831388049597, 'depth': 4, 'l2_leaf_reg': 8.88890671905891, 'bagging_temperature': 0.9245529621250193, 'iterations': 575}. Best is trial 140 with value: 0.6329322541673014.\n",
      "[I 2025-05-26 22:16:47,391] Trial 159 finished with value: 0.6323770950263581 and parameters: {'learning_rate': 0.07457034360029871, 'depth': 4, 'l2_leaf_reg': 8.476872745929455, 'bagging_temperature': 0.996310034662921, 'iterations': 665}. Best is trial 140 with value: 0.6329322541673014.\n",
      "[I 2025-05-26 22:16:59,457] Trial 160 finished with value: 0.631381555992585 and parameters: {'learning_rate': 0.07260547241196305, 'depth': 4, 'l2_leaf_reg': 8.710579987495125, 'bagging_temperature': 0.9970778955846314, 'iterations': 665}. Best is trial 140 with value: 0.6329322541673014.\n",
      "[I 2025-05-26 22:17:17,576] Trial 161 finished with value: 0.6312232874051327 and parameters: {'learning_rate': 0.04539119755849927, 'depth': 4, 'l2_leaf_reg': 8.446006427544527, 'bagging_temperature': 0.9692791189859145, 'iterations': 673}. Best is trial 140 with value: 0.6329322541673014.\n",
      "[I 2025-05-26 22:17:27,160] Trial 162 finished with value: 0.6309698313872489 and parameters: {'learning_rate': 0.11066230175701554, 'depth': 4, 'l2_leaf_reg': 8.026420948273392, 'bagging_temperature': 0.9331791520118612, 'iterations': 639}. Best is trial 140 with value: 0.6329322541673014.\n",
      "[I 2025-05-26 22:17:51,028] Trial 163 finished with value: 0.6296385462548167 and parameters: {'learning_rate': 0.022559881058563144, 'depth': 4, 'l2_leaf_reg': 8.237091277405524, 'bagging_temperature': 0.8972843585532966, 'iterations': 628}. Best is trial 140 with value: 0.6329322541673014.\n",
      "[I 2025-05-26 22:18:01,337] Trial 164 finished with value: 0.6307664109597265 and parameters: {'learning_rate': 0.08222342562673529, 'depth': 4, 'l2_leaf_reg': 9.305882688966934, 'bagging_temperature': 0.9546959461278093, 'iterations': 646}. Best is trial 140 with value: 0.6329322541673014.\n",
      "[I 2025-05-26 22:18:19,156] Trial 165 finished with value: 0.6318722357961002 and parameters: {'learning_rate': 0.06306706444292805, 'depth': 4, 'l2_leaf_reg': 8.985141884924678, 'bagging_temperature': 0.9808017040732653, 'iterations': 656}. Best is trial 140 with value: 0.6329322541673014.\n",
      "[I 2025-05-26 22:18:23,140] Trial 166 finished with value: 0.6072260873429169 and parameters: {'learning_rate': 0.0020530893283284973, 'depth': 4, 'l2_leaf_reg': 8.619577054937219, 'bagging_temperature': 0.9102230272153582, 'iterations': 620}. Best is trial 140 with value: 0.6329322541673014.\n",
      "[I 2025-05-26 22:18:32,378] Trial 167 finished with value: 0.6313442720051585 and parameters: {'learning_rate': 0.09877682689914066, 'depth': 4, 'l2_leaf_reg': 8.492039735897018, 'bagging_temperature': 0.9394008256890286, 'iterations': 687}. Best is trial 140 with value: 0.6329322541673014.\n",
      "[I 2025-05-26 22:18:37,990] Trial 168 finished with value: 0.6280056790432115 and parameters: {'learning_rate': 0.12740024693074586, 'depth': 9, 'l2_leaf_reg': 8.805522444566835, 'bagging_temperature': 0.8288770530887167, 'iterations': 634}. Best is trial 140 with value: 0.6329322541673014.\n",
      "[I 2025-05-26 22:19:00,204] Trial 169 finished with value: 0.6319864024139293 and parameters: {'learning_rate': 0.03383085611181627, 'depth': 4, 'l2_leaf_reg': 7.83940483351062, 'bagging_temperature': 0.9993232704494844, 'iterations': 612}. Best is trial 140 with value: 0.6329322541673014.\n",
      "[I 2025-05-26 22:19:15,220] Trial 170 finished with value: 0.6317294879992792 and parameters: {'learning_rate': 0.05889850933811118, 'depth': 4, 'l2_leaf_reg': 8.439783356545204, 'bagging_temperature': 0.8558458810610141, 'iterations': 670}. Best is trial 140 with value: 0.6329322541673014.\n",
      "[I 2025-05-26 22:19:26,014] Trial 171 finished with value: 0.6316234412030012 and parameters: {'learning_rate': 0.08438388114824538, 'depth': 4, 'l2_leaf_reg': 8.693409522762266, 'bagging_temperature': 0.9581001425378595, 'iterations': 595}. Best is trial 140 with value: 0.6329322541673014.\n",
      "[I 2025-05-26 22:19:33,404] Trial 172 finished with value: 0.6321647939299959 and parameters: {'learning_rate': 0.14368042346399115, 'depth': 4, 'l2_leaf_reg': 8.913834087361758, 'bagging_temperature': 0.9130445794945445, 'iterations': 619}. Best is trial 140 with value: 0.6329322541673014.\n",
      "[I 2025-05-26 22:19:40,574] Trial 173 finished with value: 0.6310336116344735 and parameters: {'learning_rate': 0.1419297556095702, 'depth': 4, 'l2_leaf_reg': 9.494798729036662, 'bagging_temperature': 0.9205414308522155, 'iterations': 658}. Best is trial 140 with value: 0.6329322541673014.\n",
      "[I 2025-05-26 22:19:52,343] Trial 174 finished with value: 0.6317598971879903 and parameters: {'learning_rate': 0.11225263302634671, 'depth': 4, 'l2_leaf_reg': 9.059761086229203, 'bagging_temperature': 0.8873096128565848, 'iterations': 607}. Best is trial 140 with value: 0.6329322541673014.\n",
      "[I 2025-05-26 22:20:03,899] Trial 175 finished with value: 0.6321778987834576 and parameters: {'learning_rate': 0.07686702064291417, 'depth': 4, 'l2_leaf_reg': 8.25305545877352, 'bagging_temperature': 0.9423892577790098, 'iterations': 626}. Best is trial 140 with value: 0.6329322541673014.\n",
      "[I 2025-05-26 22:20:17,746] Trial 176 finished with value: 0.6311362741424873 and parameters: {'learning_rate': 0.07249755449665096, 'depth': 4, 'l2_leaf_reg': 8.218522737893096, 'bagging_temperature': 0.9414442842211446, 'iterations': 621}. Best is trial 140 with value: 0.6329322541673014.\n",
      "[I 2025-05-26 22:20:40,118] Trial 177 finished with value: 0.6320541845202694 and parameters: {'learning_rate': 0.046908840578971024, 'depth': 4, 'l2_leaf_reg': 9.23906215768177, 'bagging_temperature': 0.9752047398533449, 'iterations': 633}. Best is trial 140 with value: 0.6329322541673014.\n",
      "[I 2025-05-26 22:21:02,787] Trial 178 finished with value: 0.6294186292747179 and parameters: {'learning_rate': 0.02051982619988784, 'depth': 4, 'l2_leaf_reg': 7.933477396403172, 'bagging_temperature': 0.9101869416035213, 'iterations': 640}. Best is trial 140 with value: 0.6329322541673014.\n",
      "[I 2025-05-26 22:21:13,421] Trial 179 finished with value: 0.631427214240753 and parameters: {'learning_rate': 0.09060865304774948, 'depth': 4, 'l2_leaf_reg': 8.941137083112965, 'bagging_temperature': 0.8669597460196209, 'iterations': 625}. Best is trial 140 with value: 0.6329322541673014.\n",
      "[I 2025-05-26 22:21:28,183] Trial 180 finished with value: 0.6309287530445131 and parameters: {'learning_rate': 0.06060526627168249, 'depth': 4, 'l2_leaf_reg': 9.630026762661599, 'bagging_temperature': 0.930367840702759, 'iterations': 615}. Best is trial 140 with value: 0.6329322541673014.\n",
      "[I 2025-05-26 22:21:36,810] Trial 181 finished with value: 0.6306648106735768 and parameters: {'learning_rate': 0.11191214772497787, 'depth': 4, 'l2_leaf_reg': 8.418866016048606, 'bagging_temperature': 0.9546076179813084, 'iterations': 650}. Best is trial 140 with value: 0.6329322541673014.\n",
      "[I 2025-05-26 22:21:48,353] Trial 182 finished with value: 0.6309417343838046 and parameters: {'learning_rate': 0.13506499280454498, 'depth': 4, 'l2_leaf_reg': 8.610108252317387, 'bagging_temperature': 0.9717829861135681, 'iterations': 641}. Best is trial 140 with value: 0.6329322541673014.\n",
      "[I 2025-05-26 22:21:59,304] Trial 183 finished with value: 0.6322143675773603 and parameters: {'learning_rate': 0.08087887813543822, 'depth': 4, 'l2_leaf_reg': 8.750186493694857, 'bagging_temperature': 0.8925542848216624, 'iterations': 682}. Best is trial 140 with value: 0.6329322541673014.\n",
      "[I 2025-05-26 22:22:11,821] Trial 184 finished with value: 0.6320308205798283 and parameters: {'learning_rate': 0.07744549570325143, 'depth': 4, 'l2_leaf_reg': 8.744367093674638, 'bagging_temperature': 0.8932288896822318, 'iterations': 660}. Best is trial 140 with value: 0.6329322541673014.\n",
      "[I 2025-05-26 22:22:30,748] Trial 185 finished with value: 0.6317671869943176 and parameters: {'learning_rate': 0.03851114622636747, 'depth': 4, 'l2_leaf_reg': 8.922377877134721, 'bagging_temperature': 0.9178839850218098, 'iterations': 601}. Best is trial 140 with value: 0.6329322541673014.\n",
      "[I 2025-05-26 22:22:39,272] Trial 186 finished with value: 0.6323295815953531 and parameters: {'learning_rate': 0.0979640562248868, 'depth': 4, 'l2_leaf_reg': 9.08630367819648, 'bagging_temperature': 0.8830960661179879, 'iterations': 682}. Best is trial 140 with value: 0.6329322541673014.\n",
      "[I 2025-05-26 22:22:54,703] Trial 187 finished with value: 0.6316027896337383 and parameters: {'learning_rate': 0.05548300840062304, 'depth': 4, 'l2_leaf_reg': 9.149407452191655, 'bagging_temperature': 0.9048358126803226, 'iterations': 674}. Best is trial 140 with value: 0.6329322541673014.\n",
      "[I 2025-05-26 22:23:06,071] Trial 188 finished with value: 0.6322602234482008 and parameters: {'learning_rate': 0.09255530524541938, 'depth': 4, 'l2_leaf_reg': 8.293630214487852, 'bagging_temperature': 0.8737764227284673, 'iterations': 683}. Best is trial 140 with value: 0.6329322541673014.\n",
      "[I 2025-05-26 22:23:13,776] Trial 189 finished with value: 0.6307303917574034 and parameters: {'learning_rate': 0.0969341735255252, 'depth': 4, 'l2_leaf_reg': 8.294088763193923, 'bagging_temperature': 0.8650457291143958, 'iterations': 685}. Best is trial 140 with value: 0.6329322541673014.\n",
      "[I 2025-05-26 22:23:27,557] Trial 190 finished with value: 0.6312937028335821 and parameters: {'learning_rate': 0.07104260803823391, 'depth': 4, 'l2_leaf_reg': 8.109206546526213, 'bagging_temperature': 0.8393926817960587, 'iterations': 677}. Best is trial 140 with value: 0.6329322541673014.\n",
      "[I 2025-05-26 22:23:37,811] Trial 191 finished with value: 0.6315861745075586 and parameters: {'learning_rate': 0.11774918860220561, 'depth': 4, 'l2_leaf_reg': 8.864938807815214, 'bagging_temperature': 0.8800303995166835, 'iterations': 660}. Best is trial 140 with value: 0.6329322541673014.\n",
      "[I 2025-05-26 22:23:53,931] Trial 192 finished with value: 0.631470930846165 and parameters: {'learning_rate': 0.08672882035824805, 'depth': 4, 'l2_leaf_reg': 8.578529756827773, 'bagging_temperature': 0.9376320847368936, 'iterations': 690}. Best is trial 140 with value: 0.6329322541673014.\n",
      "[I 2025-05-26 22:24:15,640] Trial 193 finished with value: 0.6311911366666212 and parameters: {'learning_rate': 0.036701737182330454, 'depth': 4, 'l2_leaf_reg': 8.418210676453882, 'bagging_temperature': 0.9540215544774134, 'iterations': 778}. Best is trial 140 with value: 0.6329322541673014.\n",
      "[I 2025-05-26 22:24:31,971] Trial 194 finished with value: 0.6312535730796736 and parameters: {'learning_rate': 0.06067607704530662, 'depth': 4, 'l2_leaf_reg': 9.38901082940246, 'bagging_temperature': 0.8789190821327449, 'iterations': 711}. Best is trial 140 with value: 0.6329322541673014.\n",
      "[I 2025-05-26 22:24:40,513] Trial 195 finished with value: 0.6315566496803063 and parameters: {'learning_rate': 0.10400120561438345, 'depth': 4, 'l2_leaf_reg': 8.850641065413551, 'bagging_temperature': 0.9875832491038364, 'iterations': 646}. Best is trial 140 with value: 0.6329322541673014.\n",
      "[I 2025-05-26 22:24:53,747] Trial 196 finished with value: 0.6318916917481952 and parameters: {'learning_rate': 0.07849552403990784, 'depth': 4, 'l2_leaf_reg': 8.096868411138384, 'bagging_temperature': 0.9242408889566046, 'iterations': 670}. Best is trial 140 with value: 0.6329322541673014.\n",
      "[I 2025-05-26 22:24:56,337] Trial 197 finished with value: 0.6236323732932602 and parameters: {'learning_rate': 0.898206198257429, 'depth': 4, 'l2_leaf_reg': 8.699862423111796, 'bagging_temperature': 0.9047917414606943, 'iterations': 761}. Best is trial 140 with value: 0.6329322541673014.\n",
      "[I 2025-05-26 22:25:17,683] Trial 198 finished with value: 0.630880530642171 and parameters: {'learning_rate': 0.026599063787206896, 'depth': 4, 'l2_leaf_reg': 9.074988116805162, 'bagging_temperature': 0.9670380712339269, 'iterations': 626}. Best is trial 140 with value: 0.6329322541673014.\n",
      "[I 2025-05-26 22:25:35,471] Trial 199 finished with value: 0.6317156568824965 and parameters: {'learning_rate': 0.04940974656297598, 'depth': 4, 'l2_leaf_reg': 7.821880112457746, 'bagging_temperature': 0.9352904715102827, 'iterations': 681}. Best is trial 140 with value: 0.6329322541673014.\n"
     ]
    },
    {
     "name": "stdout",
     "output_type": "stream",
     "text": [
      "Best CatBoost ROC-AUC: 0.6329322541673014\n",
      "Best CatBoost Params: {'learning_rate': 0.08176882186572666, 'depth': 4, 'l2_leaf_reg': 8.716449476528693, 'bagging_temperature': 0.9581287065166211, 'iterations': 656}\n"
     ]
    }
   ],
   "source": [
    "best_model = None  # Global variable to hold the best model\n",
    "best_score = -1\n",
    "\n",
    "def objective_cat(trial):\n",
    "    global best_model, best_score\n",
    "\n",
    "    params = {\n",
    "        'loss_function': 'Logloss',\n",
    "        'eval_metric': 'AUC',\n",
    "        'learning_rate': trial.suggest_float(\"learning_rate\", 0.001, 1),\n",
    "        'depth': trial.suggest_int(\"depth\", 4, 10),\n",
    "        'l2_leaf_reg': trial.suggest_float(\"l2_leaf_reg\", 1e-8, 10),\n",
    "        'bagging_temperature': trial.suggest_float(\"bagging_temperature\", 0.0, 1.0),\n",
    "        'iterations': trial.suggest_int(\"iterations\", 500, 1000),\n",
    "        'random_state': 2025,\n",
    "        'verbose': 0,\n",
    "        'class_weights': [1.0, scale_pos_weight]\n",
    "    }\n",
    "\n",
    "    model = CatBoostClassifier(**params)\n",
    "\n",
    "    model.fit(\n",
    "        X_train, y_train,\n",
    "        eval_set=(X_valid, y_valid),\n",
    "        early_stopping_rounds=50,\n",
    "        use_best_model=True\n",
    "    )\n",
    "\n",
    "    preds = model.predict_proba(X_valid)[:, 1]\n",
    "    auc = roc_auc_score(y_valid, preds)\n",
    "\n",
    "    # Saving the best model\n",
    "    if auc > best_score:\n",
    "        best_score = auc\n",
    "        best_model = model\n",
    "\n",
    "    return auc\n",
    "\n",
    "\n",
    "study_cat = optuna.create_study(direction=\"maximize\", study_name=\"catboost_hyperparam_tuning\")\n",
    "study_cat.optimize(objective_cat, n_trials=200)\n",
    "\n",
    "print(\"Best CatBoost ROC-AUC:\", study_cat.best_value)\n",
    "print(\"Best CatBoost Params:\", study_cat.best_params)"
   ]
  },
  {
   "cell_type": "code",
   "execution_count": 142,
   "id": "c7da449a-44e8-4ab1-93f3-3644f0d4af11",
   "metadata": {},
   "outputs": [],
   "source": [
    "#saving the best model in a pickle file\n",
    "with open(\"best_catboost_model.pkl\", \"wb\") as f:\n",
    "    pickle.dump(best_model, f)"
   ]
  },
  {
   "cell_type": "markdown",
   "id": "48cd3cf6-c198-43ed-8548-31b47fd1ddae",
   "metadata": {},
   "source": [
    "# 8. Predictions on Test Data"
   ]
  },
  {
   "cell_type": "code",
   "execution_count": 110,
   "id": "7cc60526-8702-4648-bf09-3f37b26e648d",
   "metadata": {},
   "outputs": [],
   "source": [
    "####################### loading flag labels ########################################\n",
    "\n",
    "df_flag_test = pd.read_csv('C:/Users/lenvo/senior_ds_test/m_creditech_assgn/senior_ds_test/data/test/test_flag.csv')\n",
    "\n",
    "# count of unique uid - 46127\n",
    "# shape - (46127,2)\n",
    "\n",
    "####################### loading accounts data ########################################\n",
    "\n",
    "#since we have a json format with list -> list -> dictionary, we flatten it out to convert it to a dataframe\n",
    "\n",
    "#extracting account data\n",
    "with open('C:/Users/lenvo/senior_ds_test/m_creditech_assgn/senior_ds_test/data/test/accounts_data_test.json', 'r') as file:\n",
    "    nested_data_acc_test = json.load(file)  \n",
    "    \n",
    "flattened_data_acc_test = [record for sublist in nested_data_acc_test for record in sublist]\n",
    "\n",
    "df_acc_test = pd.DataFrame(flattened_data_acc_test)\n",
    "# count of unique uid - \n",
    "# shape - \n",
    "\n",
    "####################### loading enquiry data ########################################\n",
    "\n",
    "#extracting enquiry data\n",
    "with open('C:/Users/lenvo/senior_ds_test/m_creditech_assgn/senior_ds_test/data/test/enquiry_data_test.json', 'r') as file:\n",
    "    nested_data_enq_test = json.load(file)  \n",
    "    \n",
    "flattened_data_enq_test = [record for sublist in nested_data_enq_test for record in sublist]\n",
    "\n",
    "df_enq_test = pd.DataFrame(flattened_data_enq_test)\n",
    "\n",
    "# count of unique uid - 46127\n",
    "# shape - (337662,4)"
   ]
  },
  {
   "cell_type": "code",
   "execution_count": 111,
   "id": "66a09d76-2811-4a64-b587-820652c448e1",
   "metadata": {},
   "outputs": [
    {
     "name": "stdout",
     "output_type": "stream",
     "text": [
      "Features Summary:\n",
      "       NAME_CONTRACT_TYPE_FE  acc_total_loans  acc_active_loans  \\\n",
      "count           46127.000000     39572.000000      39572.000000   \n",
      "mean                0.826719         5.531891          2.045183   \n",
      "std                 0.237940         4.317106          1.771179   \n",
      "min                 0.095822         1.000000          0.000000   \n",
      "25%                 0.904178         2.000000          1.000000   \n",
      "50%                 0.904178         4.000000          2.000000   \n",
      "75%                 0.904178         8.000000          3.000000   \n",
      "max                 0.904178        49.000000         17.000000   \n",
      "\n",
      "       acc_closed_loans  acc_avg_loan_amount  acc_max_loan_amount  \\\n",
      "count      39572.000000         3.957200e+04         3.957200e+04   \n",
      "mean           3.486708         3.709701e+05         9.667998e+05   \n",
      "std            3.345631         6.940939e+05         1.722368e+06   \n",
      "min            0.000000         0.000000e+00         0.000000e+00   \n",
      "25%            1.000000         1.036119e+05         1.800000e+05   \n",
      "50%            3.000000         1.965912e+05         4.500000e+05   \n",
      "75%            5.000000         3.915000e+05         1.042740e+06   \n",
      "max           47.000000         3.816720e+07         5.803200e+07   \n",
      "\n",
      "       acc_sum_loan_amount  acc_loan_amount_std  acc_total_overdue  \\\n",
      "count         3.957200e+04         3.416800e+04       3.957200e+04   \n",
      "mean          1.920735e+06         4.017092e+05       1.626409e+02   \n",
      "std           3.010598e+06         7.217761e+05       1.162171e+04   \n",
      "min           0.000000e+00         0.000000e+00       0.000000e+00   \n",
      "25%           3.375000e+05         7.571259e+04       0.000000e+00   \n",
      "50%           9.567758e+05         1.835265e+05       0.000000e+00   \n",
      "75%           2.294756e+06         4.293176e+05       0.000000e+00   \n",
      "max           8.352162e+07         1.854700e+07       2.079510e+06   \n",
      "\n",
      "       acc_avg_overdue  ...  enq_type_Ambiguous / Other  \\\n",
      "count     39572.000000  ...                46127.000000   \n",
      "mean         19.678297  ...                    1.138942   \n",
      "std         981.926831  ...                    1.469755   \n",
      "min           0.000000  ...                    0.000000   \n",
      "25%           0.000000  ...                    0.000000   \n",
      "50%           0.000000  ...                    1.000000   \n",
      "75%           0.000000  ...                    2.000000   \n",
      "max      115567.740000  ...                   15.000000   \n",
      "\n",
      "       enq_type_Business - Purposeed  enq_type_Retail - Personal  \\\n",
      "count                   46127.000000                46127.000000   \n",
      "mean                        1.138184                    2.670128   \n",
      "std                         1.461966                    2.890479   \n",
      "min                         0.000000                    0.000000   \n",
      "25%                         0.000000                    1.000000   \n",
      "50%                         1.000000                    2.000000   \n",
      "75%                         2.000000                    4.000000   \n",
      "max                        14.000000                   25.000000   \n",
      "\n",
      "       enq_type_Retail - Revolving  enq_type_Retail - Secured Asset  \\\n",
      "count                 46127.000000                     46127.000000   \n",
      "mean                      1.223665                         1.149349   \n",
      "std                       1.590057                         1.483247   \n",
      "min                       0.000000                         0.000000   \n",
      "25%                       0.000000                         0.000000   \n",
      "50%                       1.000000                         1.000000   \n",
      "75%                       2.000000                         2.000000   \n",
      "max                      16.000000                        16.000000   \n",
      "\n",
      "       acc_type_ambiguous_other  acc_type_business_purposeed  \\\n",
      "count              39572.000000                 39572.000000   \n",
      "mean                   0.005534                     0.007884   \n",
      "std                    0.080713                     0.118059   \n",
      "min                    0.000000                     0.000000   \n",
      "25%                    0.000000                     0.000000   \n",
      "50%                    0.000000                     0.000000   \n",
      "75%                    0.000000                     0.000000   \n",
      "max                    4.000000                    10.000000   \n",
      "\n",
      "       acc_type_retail_personal  acc_type_retail_revolving  \\\n",
      "count              39572.000000               39572.000000   \n",
      "mean                   4.081194                   1.288512   \n",
      "std                    3.487202                   1.483332   \n",
      "min                    0.000000                   0.000000   \n",
      "25%                    2.000000                   0.000000   \n",
      "50%                    3.000000                   1.000000   \n",
      "75%                    6.000000                   2.000000   \n",
      "max                   46.000000                  19.000000   \n",
      "\n",
      "       acc_type_retail_secured_asset  \n",
      "count                   39572.000000  \n",
      "mean                        0.148767  \n",
      "std                         0.437184  \n",
      "min                         0.000000  \n",
      "25%                         0.000000  \n",
      "50%                         0.000000  \n",
      "75%                         0.000000  \n",
      "max                         6.000000  \n",
      "\n",
      "[8 rows x 38 columns]\n",
      "\n",
      "Missing values in features:\n",
      "uid                                    0\n",
      "NAME_CONTRACT_TYPE                     0\n",
      "NAME_CONTRACT_TYPE_FE                  0\n",
      "acc_total_loans                     6555\n",
      "acc_active_loans                    6555\n",
      "acc_closed_loans                    6555\n",
      "acc_avg_loan_amount                 6555\n",
      "acc_max_loan_amount                 6555\n",
      "acc_sum_loan_amount                 6555\n",
      "acc_loan_amount_std                11959\n",
      "acc_total_overdue                   6555\n",
      "acc_avg_overdue                     6555\n",
      "acc_max_overdue                     6555\n",
      "acc_overdue_amount_ratio            6555\n",
      "acc_avg_loan_duration_days         11513\n",
      "acc_max_loan_duration_days         11513\n",
      "acc_avg_duration_per_loan          11513\n",
      "ph_avg_num_months                   6555\n",
      "ph_total_num_on_time                6555\n",
      "ph_total_num_late                   6555\n",
      "ph_max_overdue                      6688\n",
      "ph_avg_overdue                      6688\n",
      "ph_std_overdue                      6688\n",
      "ph_avg_recent_overdue               6688\n",
      "ph_total_very_late                  6555\n",
      "enq_total_enquiries                    0\n",
      "enq_avg_enquiry_amt                    0\n",
      "enq_max_enquiry_amt                    0\n",
      "enq_total_enquiry_amt                  0\n",
      "enq_types_count                        0\n",
      "enq_type_Ambiguous / Other             0\n",
      "enq_type_Business - Purposeed          0\n",
      "enq_type_Retail - Personal             0\n",
      "enq_type_Retail - Revolving            0\n",
      "enq_type_Retail - Secured Asset        0\n",
      "acc_type_ambiguous_other            6555\n",
      "acc_type_business_purposeed         6555\n",
      "acc_type_retail_personal            6555\n",
      "acc_type_retail_revolving           6555\n",
      "acc_type_retail_secured_asset       6555\n",
      "dtype: int64\n"
     ]
    }
   ],
   "source": [
    "# 1. Clearing the data using the function used for training data\n",
    "df_acc_dedupe_test, df_enq_dedupe_test = data_cleaning(df_acc_test, df_enq_test)\n",
    "#2. Feature Engineering for test set \n",
    "df_features_test = feat_eng(df_flag_test, df_acc_dedupe_test, df_enq_dedupe_test)"
   ]
  },
  {
   "cell_type": "code",
   "execution_count": 143,
   "id": "093acf18-706a-4888-ba84-e8243002385b",
   "metadata": {},
   "outputs": [],
   "source": [
    "# Loading the best model and scoring on test data\n",
    "X_test = df_features_test.drop(columns=['uid','NAME_CONTRACT_TYPE'])\n",
    "X_test['acc_type_institutional'] = np.nan\n",
    "\n",
    "with open(\"best_catboost_model.pkl\", \"rb\") as f:\n",
    "    loaded_model = pickle.load(f)\n",
    "\n",
    "y_pred = loaded_model.predict_proba(X_test)[:, 1]"
   ]
  },
  {
   "cell_type": "code",
   "execution_count": 144,
   "id": "c7451d1f-b0e7-4780-8a2f-0f87d1dc5b58",
   "metadata": {},
   "outputs": [],
   "source": [
    "#saving the test data as a csv\n",
    "final_submission_aditya_mahala_df = df_flag_test.copy()\n",
    "final_submission_aditya_mahala_df['pred'] = y_pred\n",
    "final_submission_aditya_mahala_df.drop(columns=['NAME_CONTRACT_TYPE']).to_csv('C:/Users/lenvo/senior_ds_test/m_creditech_assgn/senior_ds_test/data/test/final_submission_aditya_mahala.csv')"
   ]
  },
  {
   "cell_type": "code",
   "execution_count": null,
   "id": "092f6620-1c95-46cd-9fda-c0749858d9f4",
   "metadata": {},
   "outputs": [],
   "source": []
  }
 ],
 "metadata": {
  "kernelspec": {
   "display_name": "Python 3 (ipykernel)",
   "language": "python",
   "name": "python3"
  },
  "language_info": {
   "codemirror_mode": {
    "name": "ipython",
    "version": 3
   },
   "file_extension": ".py",
   "mimetype": "text/x-python",
   "name": "python",
   "nbconvert_exporter": "python",
   "pygments_lexer": "ipython3",
   "version": "3.12.4"
  }
 },
 "nbformat": 4,
 "nbformat_minor": 5
}
